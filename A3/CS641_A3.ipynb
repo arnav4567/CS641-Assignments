{
  "nbformat": 4,
  "nbformat_minor": 0,
  "metadata": {
    "colab": {
      "provenance": []
    },
    "kernelspec": {
      "name": "python3",
      "display_name": "Python 3"
    },
    "language_info": {
      "name": "python"
    }
  },
  "cells": [
    {
      "cell_type": "code",
      "execution_count": 19,
      "metadata": {
        "id": "OXQ0JLdN_WVB"
      },
      "outputs": [],
      "source": [
        "cipher_text= \"qmnjvsa nv wewc flct vprj tj tvvplvl fv xja vqildhc xmlnvc nacyclpa fc gyt vfvw. fv wgqyp, pqq pqcs y wsq rx qmnjvafy cgv tlvhf cw tyl aeuq fv xja tkbv cqnsqs. lhf avawnc cv eas fuqb qvq tc yllrqr xxwa cfy. psdc uqf avrqc gefq pyat trac xwv taa wwd dv eas flcbq. vd trawm vupq quw x decgqcwt, yq yafl vlqs yqklhq! snafq vml lhvqpawr nqg_vfusr_ec_wawy qp fn wgawdgf.\""
      ]
    },
    {
      "cell_type": "code",
      "source": [
        "cipher_text=cipher_text.lower()\n",
        "cipher_text=cipher_text.replace(\",\",\"\")\n",
        "cipher_text=cipher_text.replace(\".\",\"\")\n",
        "cipher_text=cipher_text.replace(\"\\\"\",\"\")\n",
        "cipher_text=cipher_text.replace(\"_\",\"\")\n",
        "cipher_text=cipher_text.replace(\"!\",\"\")\n",
        "\n",
        "\n",
        "\n",
        "cipher_text"
      ],
      "metadata": {
        "colab": {
          "base_uri": "https://localhost:8080/",
          "height": 53
        },
        "id": "kqyak9rt_mqU",
        "outputId": "39e5e15d-4598-4fe7-c123-0450a135a68f"
      },
      "execution_count": 20,
      "outputs": [
        {
          "output_type": "execute_result",
          "data": {
            "text/plain": [
              "'qmnjvsa nv wewc flct vprj tj tvvplvl fv xja vqildhc xmlnvc nacyclpa fc gyt vfvw fv wgqyp pqq pqcs y wsq rx qmnjvafy cgv tlvhf cw tyl aeuq fv xja tkbv cqnsqs lhf avawnc cv eas fuqb qvq tc yllrqr xxwa cfy psdc uqf avrqc gefq pyat trac xwv taa wwd dv eas flcbq vd trawm vupq quw x decgqcwt yq yafl vlqs yqklhq snafq vml lhvqpawr nqgvfusrecwawy qp fn wgawdgf'"
            ],
            "application/vnd.google.colaboratory.intrinsic+json": {
              "type": "string"
            }
          },
          "metadata": {},
          "execution_count": 20
        }
      ]
    },
    {
      "cell_type": "code",
      "source": [
        "cipher_text_concat=cipher_text.replace(\" \",\"\")\n",
        "\n",
        "cipher_text_concat"
      ],
      "metadata": {
        "colab": {
          "base_uri": "https://localhost:8080/",
          "height": 53
        },
        "id": "UD86f681_pUP",
        "outputId": "2266d600-ef00-4d48-d274-314f822f3431"
      },
      "execution_count": 21,
      "outputs": [
        {
          "output_type": "execute_result",
          "data": {
            "text/plain": [
              "'qmnjvsanvwewcflctvprjtjtvvplvlfvxjavqildhcxmlnvcnacyclpafcgytvfvwfvwgqyppqqpqcsywsqrxqmnjvafycgvtlvhfcwtylaeuqfvxjatkbvcqnsqslhfavawnccveasfuqbqvqtcyllrqrxxwacfypsdcuqfavrqcgefqpyattracxwvtaawwddveasflcbqvdtrawmvupqquwxdecgqcwtyqyaflvlqsyqklhqsnafqvmllhvqpawrnqgvfusrecwawyqpfnwgawdgf'"
            ],
            "application/vnd.google.colaboratory.intrinsic+json": {
              "type": "string"
            }
          },
          "metadata": {},
          "execution_count": 21
        }
      ]
    },
    {
      "cell_type": "code",
      "source": [
        "import matplotlib.pyplot as plt\n",
        "\n",
        "# Function to plot a bar graph x->names, y->values. \n",
        "# (Ensure that names and values are lists, and names[i] is mapped to values[i])\n",
        "\n",
        "def plot_bar_graph(names,values):\n",
        "  plt.bar(range(len(names)), values, tick_label=names)\n",
        "  plt.show()"
      ],
      "metadata": {
        "id": "xCMjKSiN_peb"
      },
      "execution_count": 22,
      "outputs": []
    },
    {
      "cell_type": "code",
      "source": [
        "# The Relative frequency distribution in the English language\n",
        "\n",
        "ideal_freq_dist={'a':8.2, 'b':1.5, 'c':2.8, 'd':4.3, 'e':13, 'f':2.2, 'g':2, 'h':6.1, 'i':7, 'j':0.15, 'k':0.77, 'l':4, 'm':2.4, 'n':6.7, 'o':7.5, 'p':1.9, 'q':0.095, 'r':6, 's':6.3, 't':9.1, 'u':2.8, 'v':0.98, 'w':2.4, 'x':0.15, 'y':2, 'z':0.074}\n",
        "\n",
        "plot_bar_graph(list(ideal_freq_dist.keys()),list(ideal_freq_dist.values()))"
      ],
      "metadata": {
        "colab": {
          "base_uri": "https://localhost:8080/",
          "height": 265
        },
        "id": "V5jCTt0R_1h1",
        "outputId": "afc0aaef-8375-4b2e-d117-b0c679e8e3ca"
      },
      "execution_count": 23,
      "outputs": [
        {
          "output_type": "display_data",
          "data": {
            "text/plain": [
              "<Figure size 432x288 with 1 Axes>"
            ],
            "image/png": "[encoded data removed]"
          },
          "metadata": {
            "needs_background": "light"
          }
        }
      ]
    },
    {
      "cell_type": "code",
      "source": [
        "distribution={'a':0, 'b':0, 'c':0, 'd':0, 'e':0, 'f':0, 'g':0, 'h':0, 'i':0, 'j':0, 'k':0, 'l':0, 'm':0, 'n':0, 'o':0, 'p':0, 'q':0, 'r':0, 's':0, 't':0, 'u':0, 'v':0, 'w':0, 'x':0, 'y':0, 'z':0}\n",
        "\n",
        "for j in range (0, len(cipher_text_concat)):\n",
        "  distribution[cipher_text_concat[j]]=distribution[cipher_text_concat[j]]+1\n",
        "for alph in distribution:\n",
        "  distribution[alph]=distribution[alph]*(100/len(cipher_text_concat))\n",
        "\n",
        "plot_bar_graph(list(distribution.keys()),list(distribution.values()))"
      ],
      "metadata": {
        "colab": {
          "base_uri": "https://localhost:8080/",
          "height": 265
        },
        "id": "k5zObUym_5gr",
        "outputId": "d76b5d77-d625-48b1-98ee-939bdde7132f"
      },
      "execution_count": 24,
      "outputs": [
        {
          "output_type": "display_data",
          "data": {
            "text/plain": [
              "<Figure size 432x288 with 1 Axes>"
            ],
            "image/png": "[encoded data removed]"
          },
          "metadata": {
            "needs_background": "light"
          }
        }
      ]
    },
    {
      "cell_type": "code",
      "source": [
        "# snafq vml lhvqpawr nqg_vfusr_ec_wawy qp fn wgawdgf\n",
        "# speak the password                   to go through\n",
        "\n",
        "len(cipher_text_concat)"
      ],
      "metadata": {
        "id": "XloJVbKkdlYx",
        "colab": {
          "base_uri": "https://localhost:8080/"
        },
        "outputId": "8447586a-6861-4484-8a7c-9a92075dcd48"
      },
      "execution_count": 25,
      "outputs": [
        {
          "output_type": "execute_result",
          "data": {
            "text/plain": [
              "284"
            ]
          },
          "metadata": {},
          "execution_count": 25
        }
      ]
    },
    {
      "cell_type": "code",
      "source": [
        "# We guess that the word before nqg_vfusr_ec_wawy is password because \"nqg_vfusr_ec_wawy\" looks like the command to go ahead. \n",
        "# password\n",
        "# lhvqpawr\n",
        "\n",
        "for block_size in range (2,11):\n",
        "  block=\"\"\n",
        "  print(\"Block Size:\",block_size)\n",
        "  for c in cipher_text_concat:\n",
        "    block+=c\n",
        "    if (len(block)%block_size==0):\n",
        "      print(block, end=\"  \")\n",
        "      block=\"\"\n",
        "  \n",
        "  print(\"\\n\")\n",
        "\n"
      ],
      "metadata": {
        "colab": {
          "base_uri": "https://localhost:8080/"
        },
        "id": "kBS7I4Cfn0La",
        "outputId": "cb6a9c48-a484-4107-c824-f0259fd830aa"
      },
      "execution_count": 26,
      "outputs": [
        {
          "output_type": "stream",
          "name": "stdout",
          "text": [
            "Block Size: 2\n",
            "qm  nj  vs  an  vw  ew  cf  lc  tv  pr  jt  jt  vv  pl  vl  fv  xj  av  qi  ld  hc  xm  ln  vc  na  cy  cl  pa  fc  gy  tv  fv  wf  vw  gq  yp  pq  qp  qc  sy  ws  qr  xq  mn  jv  af  yc  gv  tl  vh  fc  wt  yl  ae  uq  fv  xj  at  kb  vc  qn  sq  sl  hf  av  aw  nc  cv  ea  sf  uq  bq  vq  tc  yl  lr  qr  xx  wa  cf  yp  sd  cu  qf  av  rq  cg  ef  qp  ya  tt  ra  cx  wv  ta  aw  wd  dv  ea  sf  lc  bq  vd  tr  aw  mv  up  qq  uw  xd  ec  gq  cw  ty  qy  af  lv  lq  sy  qk  lh  qs  na  fq  vm  ll  hv  qp  aw  rn  qg  vf  us  re  cw  aw  yq  pf  nw  ga  wd  gf  \n",
            "\n",
            "Block Size: 3\n",
            "qmn  jvs  anv  wew  cfl  ctv  prj  tjt  vvp  lvl  fvx  jav  qil  dhc  xml  nvc  nac  ycl  paf  cgy  tvf  vwf  vwg  qyp  pqq  pqc  syw  sqr  xqm  njv  afy  cgv  tlv  hfc  wty  lae  uqf  vxj  atk  bvc  qns  qsl  hfa  vaw  ncc  vea  sfu  qbq  vqt  cyl  lrq  rxx  wac  fyp  sdc  uqf  avr  qcg  efq  pya  ttr  acx  wvt  aaw  wdd  vea  sfl  cbq  vdt  raw  mvu  pqq  uwx  dec  gqc  wty  qya  flv  lqs  yqk  lhq  sna  fqv  mll  hvq  paw  rnq  gvf  usr  ecw  awy  qpf  nwg  awd  \n",
            "\n",
            "Block Size: 4\n",
            "qmnj  vsan  vwew  cflc  tvpr  jtjt  vvpl  vlfv  xjav  qild  hcxm  lnvc  nacy  clpa  fcgy  tvfv  wfvw  gqyp  pqqp  qcsy  wsqr  xqmn  jvaf  ycgv  tlvh  fcwt  ylae  uqfv  xjat  kbvc  qnsq  slhf  avaw  nccv  easf  uqbq  vqtc  yllr  qrxx  wacf  ypsd  cuqf  avrq  cgef  qpya  ttra  cxwv  taaw  wddv  easf  lcbq  vdtr  awmv  upqq  uwxd  ecgq  cwty  qyaf  lvlq  syqk  lhqs  nafq  vmll  hvqp  awrn  qgvf  usre  cwaw  yqpf  nwga  wdgf  \n",
            "\n",
            "Block Size: 5\n",
            "qmnjv  sanvw  ewcfl  ctvpr  jtjtv  vplvl  fvxja  vqild  hcxml  nvcna  cyclp  afcgy  tvfvw  fvwgq  yppqq  pqcsy  wsqrx  qmnjv  afycg  vtlvh  fcwty  laeuq  fvxja  tkbvc  qnsqs  lhfav  awncc  veasf  uqbqv  qtcyl  lrqrx  xwacf  ypsdc  uqfav  rqcge  fqpya  ttrac  xwvta  awwdd  veasf  lcbqv  dtraw  mvupq  quwxd  ecgqc  wtyqy  aflvl  qsyqk  lhqsn  afqvm  llhvq  pawrn  qgvfu  srecw  awyqp  fnwga  \n",
            "\n",
            "Block Size: 6\n",
            "qmnjvs  anvwew  cflctv  prjtjt  vvplvl  fvxjav  qildhc  xmlnvc  nacycl  pafcgy  tvfvwf  vwgqyp  pqqpqc  sywsqr  xqmnjv  afycgv  tlvhfc  wtylae  uqfvxj  atkbvc  qnsqsl  hfavaw  nccvea  sfuqbq  vqtcyl  lrqrxx  wacfyp  sdcuqf  avrqcg  efqpya  ttracx  wvtaaw  wddvea  sflcbq  vdtraw  mvupqq  uwxdec  gqcwty  qyaflv  lqsyqk  lhqsna  fqvmll  hvqpaw  rnqgvf  usrecw  awyqpf  nwgawd  \n",
            "\n",
            "Block Size: 7\n",
            "qmnjvsa  nvwewcf  lctvprj  tjtvvpl  vlfvxja  vqildhc  xmlnvcn  acyclpa  fcgytvf  vwfvwgq  yppqqpq  csywsqr  xqmnjva  fycgvtl  vhfcwty  laeuqfv  xjatkbv  cqnsqsl  hfavawn  ccveasf  uqbqvqt  cyllrqr  xxwacfy  psdcuqf  avrqcge  fqpyatt  racxwvt  aawwddv  easflcb  qvdtraw  mvupqqu  wxdecgq  cwtyqya  flvlqsy  qklhqsn  afqvmll  hvqpawr  nqgvfus  recwawy  qpfnwga  \n",
            "\n",
            "Block Size: 8\n",
            "qmnjvsan  vwewcflc  tvprjtjt  vvplvlfv  xjavqild  hcxmlnvc  nacyclpa  fcgytvfv  wfvwgqyp  pqqpqcsy  wsqrxqmn  jvafycgv  tlvhfcwt  ylaeuqfv  xjatkbvc  qnsqslhf  avawnccv  easfuqbq  vqtcyllr  qrxxwacf  ypsdcuqf  avrqcgef  qpyattra  cxwvtaaw  wddveasf  lcbqvdtr  awmvupqq  uwxdecgq  cwtyqyaf  lvlqsyqk  lhqsnafq  vmllhvqp  awrnqgvf  usrecwaw  yqpfnwga  \n",
            "\n",
            "Block Size: 9\n",
            "qmnjvsanv  wewcflctv  prjtjtvvp  lvlfvxjav  qildhcxml  nvcnacycl  pafcgytvf  vwfvwgqyp  pqqpqcsyw  sqrxqmnjv  afycgvtlv  hfcwtylae  uqfvxjatk  bvcqnsqsl  hfavawncc  veasfuqbq  vqtcyllrq  rxxwacfyp  sdcuqfavr  qcgefqpya  ttracxwvt  aawwddvea  sflcbqvdt  rawmvupqq  uwxdecgqc  wtyqyaflv  lqsyqklhq  snafqvmll  hvqpawrnq  gvfusrecw  awyqpfnwg  \n",
            "\n",
            "Block Size: 10\n",
            "qmnjvsanvw  ewcflctvpr  jtjtvvplvl  fvxjavqild  hcxmlnvcna  cyclpafcgy  tvfvwfvwgq  yppqqpqcsy  wsqrxqmnjv  afycgvtlvh  fcwtylaeuq  fvxjatkbvc  qnsqslhfav  awnccveasf  uqbqvqtcyl  lrqrxxwacf  ypsdcuqfav  rqcgefqpya  ttracxwvta  awwddveasf  lcbqvdtraw  mvupqquwxd  ecgqcwtyqy  aflvlqsyqk  lhqsnafqvm  llhvqpawrn  qgvfusrecw  awyqpfnwga  \n",
            "\n"
          ]
        }
      ]
    },
    {
      "cell_type": "code",
      "source": [
        "# We see that when block size is 5, the \"ss\" in \"password\" go to the block \"llhvq\", which has the letter \"l\" repeated. So this is a possible block size.\n",
        "# This is also seen in block size of 8, 9 and obviously 10 (as it was seen in 5)\n",
        "\n",
        "# We try decoding the cipher with block size 5 \n",
        "\n",
        "# l->S \n",
        "cipher_text_concat=cipher_text_concat.replace(\"l\",\"S\")"
      ],
      "metadata": {
        "id": "8cBNZj0PoMrF"
      },
      "execution_count": 27,
      "outputs": []
    },
    {
      "cell_type": "code",
      "source": [
        "# cipher_text: llhvq  pawrn \n",
        "# plain_text:  _pass  word_\n",
        "\n",
        "# Permutation possibilities (0 indexed) (plain_text-> cipher_text ): [_,_,_,1,0] (i.e plain_text at pos 4 is mapped to cipher_text at pos 0)or [_,_,_,0,1]\n",
        "\n",
        "# We saw during frequency analysis that the two most recurring letters were q,v in the cipher text. They could correspond to a,e\n",
        "# q->A,v->E or q->E,v->A \n",
        "\n",
        "cipher_text_concat=cipher_text_concat.replace(\"q\",\"A\")\n",
        "cipher_text_concat=cipher_text_concat.replace(\"v\",\"E\")"
      ],
      "metadata": {
        "id": "c3KPV0KbsOpA"
      },
      "execution_count": 28,
      "outputs": []
    },
    {
      "cell_type": "code",
      "source": [
        "# Trying to reverse permutation\n",
        "# try all possible choices (12 left now)\n",
        "\n",
        "perm_keys=[[4,3,2,1,0],[4,2,3,1,0],[3,2,4,1,0],[3,4,2,1,0],[2,3,4,1,0],[2,4,3,1,0],[4,3,2,0,1],[4,2,3,0,1],[3,2,4,0,1],[3,4,2,0,1],[2,3,4,0,1],[2,4,3,0,1]]\n",
        "\n",
        "for key in perm_keys:\n",
        "  print(\"Perm key used:\", key)\n",
        "  block=\"\"\n",
        "  for c in cipher_text_concat:\n",
        "    block+=c\n",
        "    if (len(block)==5):\n",
        "      sub_block=\"\"\n",
        "      for j in range (0,5):\n",
        "        sub_block+=block[key[j]]\n",
        "      print(sub_block, end=\" \")\n",
        "      block=\"\"\n",
        "  print(block)\n",
        "  print(\"\\n\")\n",
        "\n",
        "# we have left the last 4 letters as it is for now"
      ],
      "metadata": {
        "colab": {
          "base_uri": "https://localhost:8080/"
        },
        "id": "EkCBvUZtv8WZ",
        "outputId": "92d6ceae-6037-40ee-ade3-de0a358330db"
      },
      "execution_count": 29,
      "outputs": [
        {
          "output_type": "stream",
          "name": "stdout",
          "text": [
            "Perm key used: [4, 3, 2, 1, 0]\n",
            "EjnmA wEnas Sfcwe rpEtc Etjtj SESpE ajxEf dSiAE Smxch ancEn pScyc ygcfa wEfEt AgwEf AAppy yscAp xrAsw EjnmA gcyfa hEStE ytwcf AueaS ajxEf cEbkt sAsnA EafhS ccnwa fsaeE EAbAu SyctA xrArS fcawx cdspy EafAu egcAr aypAf cartt atEwx ddwwa fsaeE EAbcS wartd ApuEm dxwuA cAgce yAytw SESfa kAysA nsAhS mEAfa AEhSS nrwap ufEgA wcers pAywa agwnf wdgf\n",
            "\n",
            "\n",
            "Perm key used: [4, 2, 3, 1, 0]\n",
            "EnjmA wnEas Scfwe rEptc Ejttj SSEpE axjEf diSAE Sxmch acnEn pcSyc ycgfa wfEEt AwgEf ApApy ycsAp xArsw EnjmA gycfa hSEtE ywtcf AeuaS axjEf cbEkt ssAnA EfahS cncwa faseE EbAAu ScytA xArrS facwx csdpy EfaAu ecgAr apyAf cratt aEtwx dwdwa faseE EbAcS wratd AupEm dwxuA cgAce yyAtw SSEfa kyAsA nAshS mAEfa AhESS nwrap uEfgA wecrs pyAwa awgnf wdgf\n",
            "\n",
            "\n",
            "Perm key used: [3, 2, 4, 1, 0]\n",
            "jnEmA Enwas fcSwe pErtc tjEtj ESSpE jxaEf SidAE mxSch ncaEn Scpyc gcyfa EfwEt gwAEf ApApy scyAp rAxsw jnEmA cygfa EShtE twycf ueAaS jxaEf Ebckt AssnA afEhS cncwa safeE AbEAu ycStA rAxrS cafwx dscpy afEAu gceAr ypaAf arctt tEawx dwdwa safeE AbEcS arwtd puAEm xwduA Agcce Ayytw ESSfa AyksA sAnhS EAmfa EhASS rwnap fEugA cewrs Aypwa gwanf wdgf\n",
            "\n",
            "\n",
            "Perm key used: [3, 4, 2, 1, 0]\n",
            "jEnmA Ewnas fScwe prEtc tEjtj ESSpE jaxEf SdiAE mSxch nacEn Spcyc gycfa EwfEt gAwEf AAppy sycAp rxAsw jEnmA cgyfa EhStE tywcf uAeaS jaxEf Ecbkt AssnA aEfhS ccnwa sfaeE AEbAu ySctA rxArS cfawx dcspy aEfAu gecAr yapAf acrtt taEwx ddwwa sfaeE AEbcS awrtd pAuEm xdwuA Acgce Ayytw ESSfa AkysA snAhS EmAfa EAhSS rnwap fuEgA cwers Apywa gawnf wdgf\n",
            "\n",
            "\n",
            "Perm key used: [2, 3, 4, 1, 0]\n",
            "njEmA nEwas cfSwe Eprtc jtEtj SESpE xjaEf iSdAE xmSch cnaEn cSpyc cgyfa fEwEt wgAEf pAApy csyAp Arxsw njEmA ycgfa SEhtE wtycf euAaS xjaEf bEckt sAsnA faEhS nccwa asfeE bAEAu cyStA ArxrS acfwx sdcpy faEAu cgeAr pyaAf ractt Etawx wddwa asfeE bAEcS rawtd upAEm wxduA gAcce yAytw SESfa yAksA AsnhS AEmfa hEASS wrnap EfugA ecwrs yApwa wganf wdgf\n",
            "\n",
            "\n",
            "Perm key used: [2, 4, 3, 1, 0]\n",
            "nEjmA nwEas cSfwe Erptc jEttj SSEpE xajEf idSAE xSmch canEn cpSyc cygfa fwEEt wAgEf pAApy cysAp Axrsw nEjmA ygcfa ShEtE wytcf eAuaS xajEf bcEkt ssAnA fEahS nccwa afseE bEAAu cSytA AxrrS afcwx scdpy fEaAu cegAr payAf rcatt Eatwx wddwa afseE bEAcS rwatd uApEm wdxuA gcAce yyAtw SSEfa ykAsA AnshS AmEfa hAESS wnrap EufgA ewcrs ypAwa wagnf wdgf\n",
            "\n",
            "\n",
            "Perm key used: [4, 3, 2, 0, 1]\n",
            "EjnAm wEnsa Sfcew rpEct Etjjt SESEp ajxfE dSiEA Smxhc ancnE pSccy ygcaf wEftE AgwfE AApyp yscpA xrAws EjnAm gcyaf hESEt ytwfc AueSa ajxfE cEbtk sAsAn EafSh ccnaw fsaEe EAbuA SycAt xrASr fcaxw cdsyp EafuA egcrA aypfA cartt atExw ddwaw fsaEe EAbSc wardt ApumE dxwAu cAgec yAywt SESaf kAyAs nsASh mEAaf AEhSS nrwpa ufEAg wcesr pAyaw agwfn wdgf\n",
            "\n",
            "\n",
            "Perm key used: [4, 2, 3, 0, 1]\n",
            "EnjAm wnEsa Scfew rEpct Ejtjt SSEEp axjfE diSEA Sxmhc acnnE pcScy ycgaf wfEtE AwgfE ApAyp ycspA xArws EnjAm gycaf hSEEt ywtfc AeuSa axjfE cbEtk ssAAn EfaSh cncaw fasEe EbAuA ScyAt xArSr facxw csdyp EfauA ecgrA apyfA cratt aEtxw dwdaw fasEe EbASc wradt AupmE dwxAu cgAec yyAwt SSEaf kyAAs nAsSh mAEaf AhESS nwrpa uEfAg wecsr pyAaw awgfn wdgf\n",
            "\n",
            "\n",
            "Perm key used: [3, 2, 4, 0, 1]\n",
            "jnEAm Enwsa fcSew pErct tjEjt ESSEp jxafE SidEA mxShc ncanE Scpcy gcyaf EfwtE gwAfE ApAyp scypA rAxws jnEAm cygaf EShEt twyfc ueASa jxafE Ebctk AssAn afESh cncaw safEe AbEuA ycSAt rAxSr cafxw dscyp afEuA gcerA ypafA arctt tEaxw dwdaw safEe AbESc arwdt puAmE xwdAu Agcec Ayywt ESSaf AykAs sAnSh EAmaf EhASS rwnpa fEuAg cewsr Aypaw gwafn wdgf\n",
            "\n",
            "\n",
            "Perm key used: [3, 4, 2, 0, 1]\n",
            "jEnAm Ewnsa fScew prEct tEjjt ESSEp jaxfE SdiEA mSxhc nacnE Spccy gycaf EwftE gAwfE AApyp sycpA rxAws jEnAm cgyaf EhSEt tywfc uAeSa jaxfE Ecbtk AssAn aEfSh ccnaw sfaEe AEbuA yScAt rxASr cfaxw dcsyp aEfuA gecrA yapfA acrtt taExw ddwaw sfaEe AEbSc awrdt pAumE xdwAu Acgec Ayywt ESSaf AkyAs snASh EmAaf EAhSS rnwpa fuEAg cwesr Apyaw gawfn wdgf\n",
            "\n",
            "\n",
            "Perm key used: [2, 3, 4, 0, 1]\n",
            "njEAm nEwsa cfSew Eprct jtEjt SESEp xjafE iSdEA xmShc cnanE cSpcy cgyaf fEwtE wgAfE pAAyp csypA Arxws njEAm ycgaf SEhEt wtyfc euASa xjafE bEctk sAsAn faESh nccaw asfEe bAEuA cySAt ArxSr acfxw sdcyp faEuA cgerA pyafA ractt Etaxw wddaw asfEe bAESc rawdt upAmE wxdAu gAcec yAywt SESaf yAkAs AsnSh AEmaf hEASS wrnpa EfuAg ecwsr yApaw wgafn wdgf\n",
            "\n",
            "\n",
            "Perm key used: [2, 4, 3, 0, 1]\n",
            "nEjAm nwEsa cSfew Erpct jEtjt SSEEp xajfE idSEA xSmhc cannE cpScy cygaf fwEtE wAgfE pAAyp cyspA Axrws nEjAm ygcaf ShEEt wytfc eAuSa xajfE bcEtk ssAAn fEaSh nccaw afsEe bEAuA cSyAt AxrSr afcxw scdyp fEauA cegrA payfA rcatt Eatxw wddaw afsEe bEASc rwadt uApmE wdxAu gcAec yyAwt SSEaf ykAAs AnsSh AmEaf hAESS wnrpa EufAg ewcsr ypAaw wagfn wdgf\n",
            "\n",
            "\n"
          ]
        }
      ]
    },
    {
      "cell_type": "code",
      "source": [
        "# Clean and print\n",
        "\n",
        "perm_keys=[[4,3,2,1,0],[4,2,3,1,0],[3,2,4,1,0],[3,4,2,1,0],[2,3,4,1,0],[2,4,3,1,0],[4,3,2,0,1],[4,2,3,0,1],[3,2,4,0,1],[3,4,2,0,1],[2,3,4,0,1],[2,4,3,0,1]]\n",
        "\n",
        "for key in perm_keys:\n",
        "  print(\"Perm key used:\", key)\n",
        "  block=\"\"\n",
        "  sub_block=\"\"\n",
        "  for c in cipher_text_concat:\n",
        "    block+=c\n",
        "    if (len(block)==5):\n",
        "      for j in range (0,5):\n",
        "        sub_block+=block[key[j]]\n",
        "      # print(sub_block, end=\" \")\n",
        "      block=\"\"\n",
        "  sub_block+=block\n",
        "  \n",
        "  decryption_cleaned=\"\"\n",
        "  spaces=0\n",
        "  for i in range (0, len(cipher_text)):\n",
        "    if (cipher_text[i]==\" \"):\n",
        "      decryption_cleaned+=\" \"\n",
        "      spaces=spaces+1\n",
        "    else:\n",
        "      decryption_cleaned+=sub_block[i-spaces]\n",
        "\n",
        "  print(decryption_cleaned)\n",
        "  print(\"\\n\")\n",
        "\n",
        "# we have left the last 4 letters as it is for now"
      ],
      "metadata": {
        "colab": {
          "base_uri": "https://localhost:8080/"
        },
        "id": "54yrR08N_Gv0",
        "outputId": "1cf0095d-ab7f-47ae-93f1-01b3fe2e4a3f"
      },
      "execution_count": 30,
      "outputs": [
        {
          "output_type": "stream",
          "name": "stdout",
          "text": [
            "Perm key used: [4, 3, 2, 1, 0]\n",
            "EjnmAwE na sSfc werp EtcE tj tjSESpE aj xEf dSiAESm xchanc EnpScycy gc faw EfEt Ag wEfAA ppy yscA p xrA sw EjnmAgcy fah EStEy tw cfA ueaS aj xEf cEbk tsAsnA Eaf hSccnw af sae EEAb AuS yc tAxrAr Sfca wxc dspy Eaf Auegc Aray pAfc artt atE wxd dww af sae EEAbc Sw artdA puEm dxw u AcAgceyA yt wSES fakA ysAnsA hSmEA faA EhSSnrwa pufEgAwcerspAy wa ag wnfwdgf\n",
            "\n",
            "\n",
            "Perm key used: [4, 2, 3, 1, 0]\n",
            "EnjmAwn Ea sScf werE ptcE jt tjSSEpE ax jEf diSAESx mchacn EnpcSycy cg faw fEEt Aw gEfAp Apy ycsA p xAr sw EnjmAgyc fah SEtEy wt cfA euaS ax jEf cbEk tssAnA Efa hScncw af ase EEbA AuS cy tAxArr Sfac wxc sdpy Efa Auecg Arap yAfc ratt aEt wxd wdw af ase EEbAc Sw ratdA upEm dwx u AcgAceyy At wSSE faky AsAnAs hSmAE faA hESSnwra puEfgAwecrspyA wa aw gnfwdgf\n",
            "\n",
            "\n",
            "Perm key used: [3, 2, 4, 1, 0]\n",
            "jnEmAEn wa sfcS wepE rtct jE tjESSpE jx aEf SidAEmx Schnca EnScpycg cy faE fwEt gw AEfAp Apy scyA p rAx sw jnEmAcyg faE ShtEt wy cfu eAaS jx aEf Ebck tAssnA afE hScncw as afe EAbE Auy cS tArAxr Scaf wxd scpy afE Augce Aryp aAfa rctt tEa wxd wdw as afe EAbEc Sa rwtdp uAEm xwd u AAgcceAy yt wESS faAy ksAsAn hSEAm faE hASSrwna pfEugAcewrsAyp wa gw anfwdgf\n",
            "\n",
            "\n",
            "Perm key used: [3, 4, 2, 1, 0]\n",
            "jEnmAEw na sfSc wepr Etct Ej tjESSpE ja xEf SdiAEmS xchnac EnSpcycg yc faE wfEt gA wEfAA ppy sycA p rxA sw jEnmAcgy faE hStEt yw cfu AeaS ja xEf Ecbk tAssnA aEf hSccnw as fae EAEb Auy Sc tArxAr Scfa wxd cspy aEf Augec Arya pAfa crtt taE wxd dww as fae EAEbc Sa wrtdp AuEm xdw u AAcgceAy yt wESS faAk ysAsnA hSEmA faE AhSSrnwa pfuEgAcwersApy wa ga wnfwdgf\n",
            "\n",
            "\n",
            "Perm key used: [2, 3, 4, 1, 0]\n",
            "njEmAnE wa scfS weEp rtcj tE tjSESpE xj aEf iSdAExm Schcna EncSpycc gy faf EwEt wg AEfpA Apy csyA p Arx sw njEmAycg faS EhtEw ty cfe uAaS xj aEf bEck tsAsnA faE hSnccw aa sfe EbAE Auc yS tAArxr Sacf wxs dcpy faE Aucge Arpy aAfr actt Eta wxw ddw aa sfe EbAEc Sr awtdu pAEm wxd u AgAcceyA yt wSES fayA ksAAsn hSAEm fah EASSwrna pEfugAecwrsyAp wa wg anfwdgf\n",
            "\n",
            "\n",
            "Perm key used: [2, 4, 3, 1, 0]\n",
            "nEjmAnw Ea scSf weEr ptcj Et tjSSEpE xa jEf idSAExS mchcan EncpSycc yg faf wEEt wA gEfpA Apy cysA p Axr sw nEjmAygc faS hEtEw yt cfe AuaS xa jEf bcEk tssAnA fEa hSnccw aa fse EbEA Auc Sy tAAxrr Safc wxs cdpy fEa Auceg Arpa yAfr catt Eat wxw ddw aa fse EbEAc Sr watdu ApEm wdx u AgcAceyy At wSSE fayk AsAAns hSAmE fah AESSwnra pEufgAewcrsypA wa wa gnfwdgf\n",
            "\n",
            "\n",
            "Perm key used: [4, 3, 2, 0, 1]\n",
            "EjnAmwE ns aSfc ewrp EctE tj jtSESEp aj xfE dSiEASm xhcanc nEpSccyy gc afw EftE Ag wfEAA pyp yscp A xrA ws EjnAmgcy afh ESEty tw fcA ueSa aj xfE cEbt ksAsAn Eaf Shccna wf saE eEAb uAS yc AtxrAS rfca xwc dsyp Eaf uAegc rAay pfAc artt atE xwd dwa wf saE eEAbS cw ardtA pumE dxw A ucAgecyA yw tSES afkA yAsnsA ShmEA afA EhSSnrwp aufEAgwcesrpAy aw ag wfnwdgf\n",
            "\n",
            "\n",
            "Perm key used: [4, 2, 3, 0, 1]\n",
            "EnjAmwn Es aScf ewrE pctE jt jtSSEEp ax jfE diSEASx mhcacn nEpcScyy cg afw fEtE Aw gfEAp Ayp ycsp A xAr ws EnjAmgyc afh SEEty wt fcA euSa ax jfE cbEt kssAAn Efa Shcnca wf asE eEbA uAS cy AtxArS rfac xwc sdyp Efa uAecg rAap yfAc ratt aEt xwd wda wf asE eEbAS cw radtA upmE dwx A ucgAecyy Aw tSSE afky AAsnAs ShmAE afA hESSnwrp auEfAgwecsrpyA aw aw gfnwdgf\n",
            "\n",
            "\n",
            "Perm key used: [3, 2, 4, 0, 1]\n",
            "jnEAmEn ws afcS ewpE rctt jE jtESSEp jx afE SidEAmx Shcnca nEScpcyg cy afE fwtE gw AfEAp Ayp scyp A rAx ws jnEAmcyg afE ShEtt wy fcu eASa jx afE Ebct kAssAn afE Shcnca ws afE eAbE uAy cS AtrAxS rcaf xwd scyp afE uAgce rAyp afAa rctt tEa xwd wda ws afE eAbES ca rwdtp uAmE xwd A uAgcecAy yw tESS afAy kAssAn ShEAm afE hASSrwnp afEuAgcewsrAyp aw gw afnwdgf\n",
            "\n",
            "\n",
            "Perm key used: [3, 4, 2, 0, 1]\n",
            "jEnAmEw ns afSc ewpr Ectt Ej jtESSEp ja xfE SdiEAmS xhcnac nESpccyg yc afE wftE gA wfEAA pyp sycp A rxA ws jEnAmcgy afE hSEtt yw fcu AeSa ja xfE Ecbt kAssAn aEf Shccna ws faE eAEb uAy Sc AtrxAS rcfa xwd csyp aEf uAgec rAya pfAa crtt taE xwd dwa ws faE eAEbS ca wrdtp AumE xdw A uAcgecAy yw tESS afAk yAssnA ShEmA afE AhSSrnwp afuEAgcwesrApy aw ga wfnwdgf\n",
            "\n",
            "\n",
            "Perm key used: [2, 3, 4, 0, 1]\n",
            "njEAmnE ws acfS ewEp rctj tE jtSESEp xj afE iSdEAxm Shccna nEcSpcyc gy aff EwtE wg AfEpA Ayp csyp A Arx ws njEAmycg afS EhEtw ty fce uASa xj afE bEct ksAsAn faE Shncca wa sfE ebAE uAc yS AtArxS racf xws dcyp faE uAcge rApy afAr actt Eta xww dda wa sfE ebAES cr awdtu pAmE wxd A ugAcecyA yw tSES afyA kAsAsn ShAEm afh EASSwrnp aEfuAgecwsryAp aw wg afnwdgf\n",
            "\n",
            "\n",
            "Perm key used: [2, 4, 3, 0, 1]\n",
            "nEjAmnw Es acSf ewEr pctj Et jtSSEEp xa jfE idSEAxS mhccan nEcpScyc yg aff wEtE wA gfEpA Ayp cysp A Axr ws nEjAmygc afS hEEtw yt fce AuSa xa jfE bcEt kssAAn fEa Shncca wa fsE ebEA uAc Sy AtAxrS rafc xws cdyp fEa uAceg rApa yfAr catt Eat xww dda wa fsE ebEAS cr wadtu ApmE wdx A ugcAecyy Aw tSSE afyk AAsAns ShAmE afh AESSwnrp aEufAgewcsrypA aw wa gfnwdgf\n",
            "\n",
            "\n"
          ]
        }
      ]
    },
    {
      "cell_type": "code",
      "source": [
        "perm_key=[3, 2, 4, 0, 1]\n",
        "\n",
        "\n",
        "# Replace PASSWORD \n",
        "\n",
        "cipher_text_concat=cipher_text_concat.replace(\"a\",\"T\")\n",
        "cipher_text_concat=cipher_text_concat.replace(\"f\",\"H\")\n",
        "cipher_text_concat=cipher_text_concat.replace(\"h\",\"P\")\n",
        "cipher_text_concat=cipher_text_concat.replace(\"r\",\"W\")\n",
        "cipher_text_concat=cipher_text_concat.replace(\"w\",\"O\")\n",
        "cipher_text_concat=cipher_text_concat.replace(\"n\",\"R\")\n",
        "cipher_text_concat=cipher_text_concat.replace(\"p\",\"D\")\n",
        "\n",
        "block=\"\"\n",
        "sub_block=\"\"\n",
        "for c in cipher_text_concat:\n",
        "  block+=c\n",
        "  if (len(block)==5):\n",
        "    for j in range (0,5):\n",
        "      sub_block+=block[perm_key[j]]\n",
        "      # print(sub_block, end=\" \")\n",
        "    block=\"\"\n",
        "sub_block+=block\n",
        "  \n",
        "decryption_cleaned=\"\"\n",
        "spaces=0\n",
        "for i in range (0, len(cipher_text)):\n",
        "  if (cipher_text[i]==\" \"):\n",
        "    decryption_cleaned+=\" \"\n",
        "    spaces=spaces+1\n",
        "  else:\n",
        "    decryption_cleaned+=sub_block[i-spaces]\n",
        "\n",
        "print(decryption_cleaned)\n",
        "print(\"\\n\")"
      ],
      "metadata": {
        "colab": {
          "base_uri": "https://localhost:8080/"
        },
        "id": "t9A7QmB2KlhT",
        "outputId": "9b3377a0-0117-415a-fc3f-d57ecf16afd3"
      },
      "execution_count": 31,
      "outputs": [
        {
          "output_type": "stream",
          "name": "stdout",
          "text": [
            "jREAmER Os THcS eODE Wctt jE jtESSED jx THE SidEAmx SPcRcT REScDcyg cy THE HOtE gO AHEAD AyD scyD A WAx Os jREAmcyg THE SPEtt Oy Hcu eAST jx THE Ebct kAssAR THE SPcRcT Os THE eAbE uAy cS AtWAxS WcTH xOd scyD THE uAgce WAyD THAT Wctt tET xOd OdT Os THE eAbES cT WOdtD uAmE xOd A uAgcecAy yO tESS THAy kAssAR SPEAm THE PASSWORD THEuAgceOsWAyD TO gO THROdgH\n",
            "\n",
            "\n"
          ]
        }
      ]
    },
    {
      "cell_type": "code",
      "source": [
        "# \"SPEAm\"->\"SPEAK\" So m->K\n",
        "cipher_text_concat=cipher_text_concat.replace(\"m\",\"K\")\n",
        "\n",
        "\n",
        "block=\"\"\n",
        "sub_block=\"\"\n",
        "for c in cipher_text_concat:\n",
        "  block+=c\n",
        "  if (len(block)==5):\n",
        "    for j in range (0,5):\n",
        "      sub_block+=block[perm_key[j]]\n",
        "      # print(sub_block, end=\" \")\n",
        "    block=\"\"\n",
        "sub_block+=block\n",
        "  \n",
        "decryption_cleaned=\"\"\n",
        "spaces=0\n",
        "for i in range (0, len(cipher_text)):\n",
        "  if (cipher_text[i]==\" \"):\n",
        "    decryption_cleaned+=\" \"\n",
        "    spaces=spaces+1\n",
        "  else:\n",
        "    decryption_cleaned+=sub_block[i-spaces]\n",
        "\n",
        "print(decryption_cleaned)\n",
        "print(\"\\n\")"
      ],
      "metadata": {
        "colab": {
          "base_uri": "https://localhost:8080/"
        },
        "id": "mV1s96iTMCq0",
        "outputId": "ea04b90b-8199-41ba-d7e6-bfcc59a93f5f"
      },
      "execution_count": 32,
      "outputs": [
        {
          "output_type": "stream",
          "name": "stdout",
          "text": [
            "jREAKER Os THcS eODE Wctt jE jtESSED jx THE SidEAKx SPcRcT REScDcyg cy THE HOtE gO AHEAD AyD scyD A WAx Os jREAKcyg THE SPEtt Oy Hcu eAST jx THE Ebct kAssAR THE SPcRcT Os THE eAbE uAy cS AtWAxS WcTH xOd scyD THE uAgce WAyD THAT Wctt tET xOd OdT Os THE eAbES cT WOdtD uAKE xOd A uAgcecAy yO tESS THAy kAssAR SPEAK THE PASSWORD THEuAgceOsWAyD TO gO THROdgH\n",
            "\n",
            "\n"
          ]
        }
      ]
    },
    {
      "cell_type": "code",
      "source": [
        "cipher_text_concat=cipher_text_concat.replace(\"g\",\"G\")\n",
        "cipher_text_concat=cipher_text_concat.replace(\"s\",\"F\")\n",
        "cipher_text_concat=cipher_text_concat.replace(\"c\",\"I\")\n",
        "cipher_text_concat=cipher_text_concat.replace(\"y\",\"N\")\n",
        "cipher_text_concat=cipher_text_concat.replace(\"t\",\"L\")\n",
        "cipher_text_concat=cipher_text_concat.replace(\"d\",\"U\")\n",
        "cipher_text_concat=cipher_text_concat.replace(\"j\",\"B\")\n",
        "\n",
        "\n",
        "block=\"\"\n",
        "sub_block=\"\"\n",
        "for c in cipher_text_concat:\n",
        "  block+=c\n",
        "  if (len(block)==5):\n",
        "    for j in range (0,5):\n",
        "      sub_block+=block[perm_key[j]]\n",
        "      # print(sub_block, end=\" \")\n",
        "    block=\"\"\n",
        "sub_block+=block\n",
        "  \n",
        "decryption_cleaned=\"\"\n",
        "spaces=0\n",
        "for i in range (0, len(cipher_text)):\n",
        "  if (cipher_text[i]==\" \"):\n",
        "    decryption_cleaned+=\" \"\n",
        "    spaces=spaces+1\n",
        "  else:\n",
        "    decryption_cleaned+=sub_block[i-spaces]\n",
        "\n",
        "print(decryption_cleaned)\n",
        "print(\"\\n\")"
      ],
      "metadata": {
        "colab": {
          "base_uri": "https://localhost:8080/"
        },
        "id": "a0JkmrosTcw6",
        "outputId": "7d8caaad-934a-4655-b7c9-a720feb0bb1d"
      },
      "execution_count": 33,
      "outputs": [
        {
          "output_type": "stream",
          "name": "stdout",
          "text": [
            "BREAKER OF THIS eODE WILL BE BLESSED Bx THE SiUEAKx SPIRIT RESIDING IN THE HOLE GO AHEAD AND FIND A WAx OF BREAKING THE SPELL ON HIu eAST Bx THE EbIL kAFFAR THE SPIRIT OF THE eAbE uAN IS ALWAxS WITH xOU FIND THE uAGIe WAND THAT WILL LET xOU OUT OF THE eAbES IT WOULD uAKE xOU A uAGIeIAN NO LESS THAN kAFFAR SPEAK THE PASSWORD THEuAGIeOFWAND TO GO THROUGH\n",
            "\n",
            "\n"
          ]
        }
      ]
    },
    {
      "cell_type": "code",
      "source": [
        "cipher_text_concat=cipher_text_concat.replace(\"e\",\"C\")\n",
        "cipher_text_concat=cipher_text_concat.replace(\"x\",\"Y\")\n",
        "cipher_text_concat=cipher_text_concat.replace(\"b\",\"V\")\n",
        "cipher_text_concat=cipher_text_concat.replace(\"k\",\"J\")\n",
        "\n",
        "block=\"\"\n",
        "sub_block=\"\"\n",
        "for c in cipher_text_concat:\n",
        "  block+=c\n",
        "  if (len(block)==5):\n",
        "    for j in range (0,5):\n",
        "      sub_block+=block[perm_key[j]]\n",
        "      # print(sub_block, end=\" \")\n",
        "    block=\"\"\n",
        "sub_block+=block\n",
        "  \n",
        "decryption_cleaned=\"\"\n",
        "spaces=0\n",
        "for i in range (0, len(cipher_text)):\n",
        "  if (cipher_text[i]==\" \"):\n",
        "    decryption_cleaned+=\" \"\n",
        "    spaces=spaces+1\n",
        "  else:\n",
        "    decryption_cleaned+=sub_block[i-spaces]\n",
        "\n",
        "print(decryption_cleaned)\n",
        "print(\"\\n\")"
      ],
      "metadata": {
        "colab": {
          "base_uri": "https://localhost:8080/"
        },
        "id": "AYEJzcTkUNz-",
        "outputId": "4aa1d4f9-bf54-4f35-8acf-47031794eec1"
      },
      "execution_count": 34,
      "outputs": [
        {
          "output_type": "stream",
          "name": "stdout",
          "text": [
            "BREAKER OF THIS CODE WILL BE BLESSED BY THE SiUEAKY SPIRIT RESIDING IN THE HOLE GO AHEAD AND FIND A WAY OF BREAKING THE SPELL ON HIu CAST BY THE EVIL JAFFAR THE SPIRIT OF THE CAVE uAN IS ALWAYS WITH YOU FIND THE uAGIC WAND THAT WILL LET YOU OUT OF THE CAVES IT WOULD uAKE YOU A uAGICIAN NO LESS THAN JAFFAR SPEAK THE PASSWORD THEuAGICOFWAND TO GO THROUGH\n",
            "\n",
            "\n"
          ]
        }
      ]
    },
    {
      "cell_type": "code",
      "source": [
        "cipher_text_concat=cipher_text_concat.replace(\"u\",\"M\")\n",
        "cipher_text_concat=cipher_text_concat.replace(\"i\",\"Q\")\n",
        "\n",
        "block=\"\"\n",
        "sub_block=\"\"\n",
        "for c in cipher_text_concat:\n",
        "  block+=c\n",
        "  if (len(block)==5):\n",
        "    for j in range (0,5):\n",
        "      sub_block+=block[perm_key[j]]\n",
        "      # print(sub_block, end=\" \")\n",
        "    block=\"\"\n",
        "sub_block+=block\n",
        "  \n",
        "decryption_cleaned=\"\"\n",
        "spaces=0\n",
        "for i in range (0, len(cipher_text)):\n",
        "  if (cipher_text[i]==\" \"):\n",
        "    decryption_cleaned+=\" \"\n",
        "    spaces=spaces+1\n",
        "  else:\n",
        "    decryption_cleaned+=sub_block[i-spaces]\n",
        "\n",
        "print(decryption_cleaned)\n",
        "print(\"\\n\")"
      ],
      "metadata": {
        "colab": {
          "base_uri": "https://localhost:8080/"
        },
        "id": "YN9XdL6PVcs8",
        "outputId": "c2175d20-fe25-4bc6-b282-6a134ac91906"
      },
      "execution_count": 35,
      "outputs": [
        {
          "output_type": "stream",
          "name": "stdout",
          "text": [
            "BREAKER OF THIS CODE WILL BE BLESSED BY THE SQUEAKY SPIRIT RESIDING IN THE HOLE GO AHEAD AND FIND A WAY OF BREAKING THE SPELL ON HIM CAST BY THE EVIL JAFFAR THE SPIRIT OF THE CAVE MAN IS ALWAYS WITH YOU FIND THE MAGIC WAND THAT WILL LET YOU OUT OF THE CAVES IT WOULD MAKE YOU A MAGICIAN NO LESS THAN JAFFAR SPEAK THE PASSWORD THEMAGICOFWAND TO GO THROUGH\n",
            "\n",
            "\n"
          ]
        }
      ]
    },
    {
      "cell_type": "code",
      "source": [
        "decryption_cleaned=decryption_cleaned.lower()\n",
        "decryption_cleaned"
      ],
      "metadata": {
        "colab": {
          "base_uri": "https://localhost:8080/",
          "height": 53
        },
        "id": "f_Ay1r8pg6V4",
        "outputId": "4b56c1d3-3611-428e-c300-d16e256d01fa"
      },
      "execution_count": 36,
      "outputs": [
        {
          "output_type": "execute_result",
          "data": {
            "text/plain": [
              "'breaker of this code will be blessed by the squeaky spirit residing in the hole go ahead and find a way of breaking the spell on him cast by the evil jaffar the spirit of the cave man is always with you find the magic wand that will let you out of the caves it would make you a magician no less than jaffar speak the password themagicofwand to go through'"
            ],
            "application/vnd.google.colaboratory.intrinsic+json": {
              "type": "string"
            }
          },
          "metadata": {},
          "execution_count": 36
        }
      ]
    }
  ]
}