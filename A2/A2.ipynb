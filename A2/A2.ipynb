{
  "nbformat": 4,
  "nbformat_minor": 0,
  "metadata": {
    "colab": {
      "provenance": []
    },
    "kernelspec": {
      "name": "python3",
      "display_name": "Python 3"
    },
    "language_info": {
      "name": "python"
    }
  },
  "cells": [
    {
      "cell_type": "markdown",
      "source": [
        "### **Assignment 2**"
      ],
      "metadata": {
        "id": "kfwu_aJ7VhQz"
      }
    },
    {
      "cell_type": "code",
      "execution_count": 28,
      "metadata": {
        "id": "mb49rFCXR5l5"
      },
      "outputs": [],
      "source": [
        "cipher_text= \"\"\"Kg fcwd qh vin pnzy hjcocnt, cjjwg ku wnth nnyvng kxa cjjwg. Urfjm xwy yjg rbbufqwi \"vjg_djxn_ofs_dg_rmncbgi\" yq iq uqtxwlm. Oca zxw qcaj vjg tctnplyj hqs cjn pjcv ejbvdnt. Yt hkpe cjn gcnv, aqv okauy bknn ongm vt zvvgs vcpkh bqtft cjntj.\"\"\""
      ]
    },
    {
      "cell_type": "markdown",
      "source": [
        "#### **Preprocessing**\n",
        "The cipher text looked alphabet-wise encrypted. While encrypting such ciphers, spaces, commas, quotes, underscores and full-stops aren't encrypted. We remove them from the cipher text."
      ],
      "metadata": {
        "id": "KaD5_XxRU8mt"
      }
    },
    {
      "cell_type": "code",
      "source": [
        "cipher_text=cipher_text.lower()\n",
        "cipher_text=cipher_text.replace(\",\",\"\")\n",
        "cipher_text=cipher_text.replace(\".\",\"\")\n",
        "cipher_text=cipher_text.replace(\"\\\"\",\"\")\n",
        "cipher_text=cipher_text.replace(\"_\",\"\")\n",
        "\n",
        "cipher_text"
      ],
      "metadata": {
        "colab": {
          "base_uri": "https://localhost:8080/",
          "height": 53
        },
        "id": "dQnqCpPBVAwe",
        "outputId": "ce44bf20-5c85-4350-ba7b-c4f7fa18236b"
      },
      "execution_count": 29,
      "outputs": [
        {
          "output_type": "execute_result",
          "data": {
            "text/plain": [
              "'kg fcwd qh vin pnzy hjcocnt cjjwg ku wnth nnyvng kxa cjjwg urfjm xwy yjg rbbufqwi vjgdjxnofsdgrmncbgi yq iq uqtxwlm oca zxw qcaj vjg tctnplyj hqs cjn pjcv ejbvdnt yt hkpe cjn gcnv aqv okauy bknn ongm vt zvvgs vcpkh bqtft cjntj'"
            ],
            "application/vnd.google.colaboratory.intrinsic+json": {
              "type": "string"
            }
          },
          "metadata": {},
          "execution_count": 29
        }
      ]
    },
    {
      "cell_type": "code",
      "source": [
        "cipher_text_concat=cipher_text.replace(\" \",\"\")\n",
        "\n",
        "cipher_text_concat"
      ],
      "metadata": {
        "colab": {
          "base_uri": "https://localhost:8080/",
          "height": 53
        },
        "id": "U3ftwA8vWHG5",
        "outputId": "8d9902ad-ff38-4e1b-a2dd-2977e76152c9"
      },
      "execution_count": 30,
      "outputs": [
        {
          "output_type": "execute_result",
          "data": {
            "text/plain": [
              "'kgfcwdqhvinpnzyhjcocntcjjwgkuwnthnnyvngkxacjjwgurfjmxwyyjgrbbufqwivjgdjxnofsdgrmncbgiyqiquqtxwlmocazxwqcajvjgtctnplyjhqscjnpjcvejbvdntythkpecjngcnvaqvokauybknnongmvtzvvgsvcpkhbqtftcjntj'"
            ],
            "application/vnd.google.colaboratory.intrinsic+json": {
              "type": "string"
            }
          },
          "metadata": {},
          "execution_count": 30
        }
      ]
    },
    {
      "cell_type": "markdown",
      "source": [
        "#### **Frequency Analysis of the given cipher text**"
      ],
      "metadata": {
        "id": "dBGDKgNIauXq"
      }
    },
    {
      "cell_type": "code",
      "source": [
        "import matplotlib.pyplot as plt\n",
        "\n",
        "# Function to plot a bar graph x->names, y->values. \n",
        "# (Ensure that names and values are lists, and names[i] is mapped to values[i])\n",
        "\n",
        "def plot_bar_graph(names,values):\n",
        "  plt.bar(range(len(names)), values, tick_label=names)\n",
        "  plt.show()"
      ],
      "metadata": {
        "id": "8nMFDEk5bxC-"
      },
      "execution_count": 31,
      "outputs": []
    },
    {
      "cell_type": "code",
      "source": [
        "# The Relative frequency distribution in the English language\n",
        "\n",
        "ideal_freq_dist={'a':8.2, 'b':1.5, 'c':2.8, 'd':4.3, 'e':13, 'f':2.2, 'g':2, 'h':6.1, 'i':7, 'j':0.15, 'k':0.77, 'l':4, 'm':2.4, 'n':6.7, 'o':7.5, 'p':1.9, 'q':0.095, 'r':6, 's':6.3, 't':9.1, 'u':2.8, 'v':0.98, 'w':2.4, 'x':0.15, 'y':2, 'z':0.074}\n",
        "\n",
        "plot_bar_graph(list(ideal_freq_dist.keys()),list(ideal_freq_dist.values()))"
      ],
      "metadata": {
        "colab": {
          "base_uri": "https://localhost:8080/",
          "height": 265
        },
        "id": "O_9VNx08a8Uu",
        "outputId": "0dc95a0e-3fc5-4c66-8107-c08acc5c8449"
      },
      "execution_count": 32,
      "outputs": [
        {
          "output_type": "display_data",
          "data": {
            "text/plain": [
              "<Figure size 432x288 with 1 Axes>"
            ],
            "image/png": "[encoded data removed]"
          },
          "metadata": {
            "needs_background": "light"
          }
        }
      ]
    },
    {
      "cell_type": "code",
      "source": [
        "distribution={'a':0, 'b':0, 'c':0, 'd':0, 'e':0, 'f':0, 'g':0, 'h':0, 'i':0, 'j':0, 'k':0, 'l':0, 'm':0, 'n':0, 'o':0, 'p':0, 'q':0, 'r':0, 's':0, 't':0, 'u':0, 'v':0, 'w':0, 'x':0, 'y':0, 'z':0}\n",
        "\n",
        "for j in range (0, len(cipher_text_concat)):\n",
        "  distribution[cipher_text_concat[j]]=distribution[cipher_text_concat[j]]+1\n",
        "# print(distribution)\n",
        "for alph in distribution:\n",
        "  distribution[alph]=distribution[alph]*(100/len(cipher_text_concat))\n",
        "\n",
        "# print(distribution)\n",
        "plot_bar_graph(list(distribution.keys()),list(distribution.values()))"
      ],
      "metadata": {
        "colab": {
          "base_uri": "https://localhost:8080/",
          "height": 265
        },
        "id": "E_yv1HKNbBrY",
        "outputId": "53b44636-584a-4886-990d-6aeb9af9f95f"
      },
      "execution_count": 33,
      "outputs": [
        {
          "output_type": "display_data",
          "data": {
            "text/plain": [
              "<Figure size 432x288 with 1 Axes>"
            ],
            "image/png": "[encoded data removed]"
          },
          "metadata": {
            "needs_background": "light"
          }
        }
      ]
    },
    {
      "cell_type": "markdown",
      "source": [
        "There is a lot of flatness in the cipher text distribution. This indicates that the encryption is unlikely to be monoalphabetic. \n",
        "\n",
        "Also, after counting number of lines in horizontal dimension on the first screen, we got `9292552221`. This looks some sort of key (to be wrapped-around).\n",
        "\n",
        "Hence, we try using one of the most common polyaplhabetic substitution of such type: **Vigenere Encryption**."
      ],
      "metadata": {
        "id": "whCzZyixbI8a"
      }
    },
    {
      "cell_type": "markdown",
      "source": [
        "#### **Decrypting using Vigenere Cipher**"
      ],
      "metadata": {
        "id": "UJ8xmmPSgwxp"
      }
    },
    {
      "cell_type": "code",
      "source": [
        "cipher_text= \"\"\"Kg fcwd qh vin pnzy hjcocnt, cjjwg ku wnth nnyvng kxa cjjwg. Urfjm xwy yjg rbbufqwi \"vjg_djxn_ofs_dg_rmncbgi\" yq iq uqtxwlm. Oca zxw qcaj vjg tctnplyj hqs cjn pjcv ejbvdnt. Yt hkpe cjn gcnv, aqv okauy bknn ongm vt zvvgs vcpkh bqtft cjntj.\"\"\"\n",
        "cipher_text=cipher_text.lower()"
      ],
      "metadata": {
        "id": "Aweej7JIqHew"
      },
      "execution_count": 34,
      "outputs": []
    },
    {
      "cell_type": "code",
      "source": [
        "# Function to decrypt using Vigenere Encryption\n",
        "\n",
        "def decrypt(cipher_text, key):\n",
        "    plain_text = \"\"\n",
        "    for i in range(len(cipher_text)):\n",
        "        x = ((ord(cipher_text[i])-ord('a')) -\n",
        "             (ord(key[i%(len(key))])-ord('0'))) % 26\n",
        "        x += ord('a')\n",
        "        plain_text += chr(x)\n",
        "    return plain_text"
      ],
      "metadata": {
        "id": "z_ArWwjDgu4Y"
      },
      "execution_count": 35,
      "outputs": []
    },
    {
      "cell_type": "code",
      "source": [
        "plain_text=decrypt(cipher_text_concat,\"9292552221\")"
      ],
      "metadata": {
        "id": "cBkXclkdhBkG"
      },
      "execution_count": 36,
      "outputs": []
    },
    {
      "cell_type": "code",
      "source": [
        "decryption_cleaned=\"\"\n",
        "others=0\n",
        "for i in range (0, len(cipher_text)):\n",
        "  if (cipher_text[i] > 'z' or cipher_text[i] < 'a'):\n",
        "    decryption_cleaned+=cipher_text[i]\n",
        "    others=others+1\n",
        "  else:\n",
        "    decryption_cleaned+=plain_text[i-others]\n",
        "\n",
        "decryption_cleaned"
      ],
      "metadata": {
        "colab": {
          "base_uri": "https://localhost:8080/",
          "height": 53
        },
        "id": "iGSJREL9pjc_",
        "outputId": "082e99fd-4e70-40e0-e841-e91765b9747c"
      },
      "execution_count": 37,
      "outputs": [
        {
          "output_type": "execute_result",
          "data": {
            "text/plain": [
              "'be wary of the next chamber, there is very little joy there. speak out the password \"the_cave_man_be_pleased\" to go through. may you have the strength for the next chamber. to find the exit, you first will need to utter magic words there.'"
            ],
            "application/vnd.google.colaboratory.intrinsic+json": {
              "type": "string"
            }
          },
          "metadata": {},
          "execution_count": 37
        }
      ]
    }
  ]
}