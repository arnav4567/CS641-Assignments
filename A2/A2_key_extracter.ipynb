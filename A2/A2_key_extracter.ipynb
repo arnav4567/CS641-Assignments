{
  "nbformat": 4,
  "nbformat_minor": 0,
  "metadata": {
    "colab": {
      "provenance": []
    },
    "kernelspec": {
      "name": "python3",
      "display_name": "Python 3"
    },
    "language_info": {
      "name": "python"
    }
  },
  "cells": [
    {
      "cell_type": "markdown",
      "source": [
        "#### Assignment 2\n",
        "\n"
      ],
      "metadata": {
        "id": "VOcJvu31hp08"
      }
    },
    {
      "cell_type": "markdown",
      "source": [
        "#### **Helper Functions**"
      ],
      "metadata": {
        "id": "7R2BRxsAQERR"
      }
    },
    {
      "cell_type": "code",
      "source": [
        "# Function to encrypt using Vigenere Encryption\n",
        "\n",
        "def encrypt(plain_text, key):\n",
        "    cipher_text = \"\"\n",
        "    for i in range(len(plain_text)):\n",
        "        x = ((ord(plain_text[i])-ord('a')) +\n",
        "             (ord(key[i%(len(key))])-ord('a'))) % 26\n",
        "        x += ord('a')\n",
        "        cipher_text += chr(x)\n",
        "    return cipher_text"
      ],
      "metadata": {
        "id": "pAuNNgO8HBXu"
      },
      "execution_count": 35,
      "outputs": []
    },
    {
      "cell_type": "code",
      "source": [
        "# Function to decrypt using Vigenere Encryption\n",
        "\n",
        "def decrypt(cipher_text, key):\n",
        "    plain_text = \"\"\n",
        "    for i in range(len(cipher_text)):\n",
        "        x = ((ord(cipher_text[i])-ord('a')) -\n",
        "             (ord(key[i%(len(key))])-ord('a'))) % 26\n",
        "        x += ord('a')\n",
        "        plain_text += chr(x)\n",
        "    return plain_text"
      ],
      "metadata": {
        "id": "Jehg-ttwNNS5"
      },
      "execution_count": 36,
      "outputs": []
    },
    {
      "cell_type": "code",
      "source": [
        "# Function to get prime factors of a number (useful in finding the key length)\n",
        "\n",
        "def get_prime_factors(n):\n",
        "    prime_factors=[]\n",
        "    c = 2\n",
        "    while(n > 1):\n",
        "        if(n % c == 0):\n",
        "            prime_factors.append(c)\n",
        "            n = n / c\n",
        "        else:\n",
        "            c = c + 1\n",
        "    return prime_factors"
      ],
      "metadata": {
        "id": "rc4kpwkmao84"
      },
      "execution_count": 37,
      "outputs": []
    },
    {
      "cell_type": "code",
      "source": [
        "import matplotlib.pyplot as plt\n",
        "\n",
        "# Function to plot a bar graph x->names, y->values. \n",
        "# (Ensure that names and values are lists, and names[i] is mapped to values[i])\n",
        "\n",
        "def plot_bar_graph(names,values):\n",
        "  plt.bar(range(len(names)), values, tick_label=names)\n",
        "  plt.show()"
      ],
      "metadata": {
        "id": "t-fNA-Ts0rBO"
      },
      "execution_count": 38,
      "outputs": []
    },
    {
      "cell_type": "markdown",
      "source": [
        "#### **Preprocessing**\n",
        "While encrypting, spaces, commas, quotes, underscores and full-stops aren't encrypted."
      ],
      "metadata": {
        "id": "mHVqd6NCTREm"
      }
    },
    {
      "cell_type": "code",
      "execution_count": 39,
      "metadata": {
        "id": "KBUFhx6ODbVt"
      },
      "outputs": [],
      "source": [
        "cipher_text= \"\"\"Kg fcwd qh vin pnzy hjcocnt, cjjwg ku wnth nnyvng kxa cjjwg. Urfjm xwy yjg rbbufqwi \"vjg_djxn_ofs_dg_rmncbgi\" yq iq uqtxwlm. Oca zxw qcaj vjg tctnplyj hqs cjn pjcv ejbvdnt. Yt hkpe cjn gcnv, aqv okauy bknn ongm vt zvvgs vcpkh bqtft cjntj.\"\"\""
      ]
    },
    {
      "cell_type": "code",
      "source": [
        "cipher_text=cipher_text.lower()\n",
        "cipher_text=cipher_text.replace(\",\",\"\")\n",
        "cipher_text=cipher_text.replace(\".\",\"\")\n",
        "cipher_text=cipher_text.replace(\"\\\"\",\"\")\n",
        "cipher_text=cipher_text.replace(\"_\",\"\")\n",
        "\n",
        "cipher_text"
      ],
      "metadata": {
        "colab": {
          "base_uri": "https://localhost:8080/",
          "height": 53
        },
        "id": "0OpzAeMkFQhT",
        "outputId": "04e9773a-4cf6-45d4-a019-8d56ef700a6a"
      },
      "execution_count": 40,
      "outputs": [
        {
          "output_type": "execute_result",
          "data": {
            "text/plain": [
              "'kg fcwd qh vin pnzy hjcocnt cjjwg ku wnth nnyvng kxa cjjwg urfjm xwy yjg rbbufqwi vjgdjxnofsdgrmncbgi yq iq uqtxwlm oca zxw qcaj vjg tctnplyj hqs cjn pjcv ejbvdnt yt hkpe cjn gcnv aqv okauy bknn ongm vt zvvgs vcpkh bqtft cjntj'"
            ],
            "application/vnd.google.colaboratory.intrinsic+json": {
              "type": "string"
            }
          },
          "metadata": {},
          "execution_count": 40
        }
      ]
    },
    {
      "cell_type": "code",
      "source": [
        "cipher_text_concat=cipher_text.replace(\" \",\"\")\n",
        "\n",
        "cipher_text_concat"
      ],
      "metadata": {
        "colab": {
          "base_uri": "https://localhost:8080/",
          "height": 53
        },
        "id": "utXYHLhKGrCq",
        "outputId": "f5cfa9d7-ff0d-43ab-9fbd-96ce475c5728"
      },
      "execution_count": 41,
      "outputs": [
        {
          "output_type": "execute_result",
          "data": {
            "text/plain": [
              "'kgfcwdqhvinpnzyhjcocntcjjwgkuwnthnnyvngkxacjjwgurfjmxwyyjgrbbufqwivjgdjxnofsdgrmncbgiyqiquqtxwlmocazxwqcajvjgtctnplyjhqscjnpjcvejbvdntythkpecjngcnvaqvokauybknnongmvtzvvgsvcpkhbqtftcjntj'"
            ],
            "application/vnd.google.colaboratory.intrinsic+json": {
              "type": "string"
            }
          },
          "metadata": {},
          "execution_count": 41
        }
      ]
    },
    {
      "cell_type": "markdown",
      "source": [
        "### **Frequency analysis of given cipher text**"
      ],
      "metadata": {
        "id": "UxgiuEsRiDIX"
      }
    },
    {
      "cell_type": "code",
      "source": [
        "# The Relative frequency distribution in the English language\n",
        "\n",
        "ideal_freq_dist={'a':8.2, 'b':1.5, 'c':2.8, 'd':4.3, 'e':13, 'f':2.2, 'g':2, 'h':6.1, 'i':7, 'j':0.15, 'k':0.77, 'l':4, 'm':2.4, 'n':6.7, 'o':7.5, 'p':1.9, 'q':0.095, 'r':6, 's':6.3, 't':9.1, 'u':2.8, 'v':0.98, 'w':2.4, 'x':0.15, 'y':2, 'z':0.074}\n",
        "\n",
        "plot_bar_graph(list(ideal_freq_dist.keys()),list(ideal_freq_dist.values()))"
      ],
      "metadata": {
        "colab": {
          "base_uri": "https://localhost:8080/",
          "height": 265
        },
        "id": "E2PYSCDmkr9Q",
        "outputId": "5da0226d-3117-456e-ddc9-c50991fa23ae"
      },
      "execution_count": 42,
      "outputs": [
        {
          "output_type": "display_data",
          "data": {
            "text/plain": [
              "<Figure size 432x288 with 1 Axes>"
            ],
            "image/png": "[encoded data removed]"
          },
          "metadata": {
            "needs_background": "light"
          }
        }
      ]
    },
    {
      "cell_type": "code",
      "source": [
        "distribution={'a':0, 'b':0, 'c':0, 'd':0, 'e':0, 'f':0, 'g':0, 'h':0, 'i':0, 'j':0, 'k':0, 'l':0, 'm':0, 'n':0, 'o':0, 'p':0, 'q':0, 'r':0, 's':0, 't':0, 'u':0, 'v':0, 'w':0, 'x':0, 'y':0, 'z':0}\n",
        "\n",
        "for j in range (0, len(cipher_text_concat)):\n",
        "  distribution[cipher_text_concat[j]]=distribution[cipher_text_concat[j]]+1\n",
        "print(distribution)\n",
        "for alph in distribution:\n",
        "  distribution[alph]=distribution[alph]*(100/len(cipher_text_concat))\n",
        "\n",
        "print(distribution)\n",
        "plot_bar_graph(list(distribution.keys()),list(distribution.values()))"
      ],
      "metadata": {
        "colab": {
          "base_uri": "https://localhost:8080/",
          "height": 320
        },
        "id": "JbAEBXSzjHSG",
        "outputId": "3a2fd53f-f196-4ccf-b00f-2f6d5315fd11"
      },
      "execution_count": 43,
      "outputs": [
        {
          "output_type": "stream",
          "name": "stdout",
          "text": [
            "{'a': 5, 'b': 6, 'c': 15, 'd': 4, 'e': 2, 'f': 5, 'g': 12, 'h': 6, 'i': 4, 'j': 18, 'k': 7, 'l': 2, 'm': 4, 'n': 18, 'o': 5, 'p': 5, 'q': 9, 'r': 3, 's': 3, 't': 11, 'u': 5, 'v': 12, 'w': 8, 'x': 5, 'y': 8, 'z': 3}\n",
            "{'a': 2.7027027027027026, 'b': 3.2432432432432434, 'c': 8.108108108108109, 'd': 2.1621621621621623, 'e': 1.0810810810810811, 'f': 2.7027027027027026, 'g': 6.486486486486487, 'h': 3.2432432432432434, 'i': 2.1621621621621623, 'j': 9.72972972972973, 'k': 3.783783783783784, 'l': 1.0810810810810811, 'm': 2.1621621621621623, 'n': 9.72972972972973, 'o': 2.7027027027027026, 'p': 2.7027027027027026, 'q': 4.864864864864865, 'r': 1.6216216216216217, 's': 1.6216216216216217, 't': 5.9459459459459465, 'u': 2.7027027027027026, 'v': 6.486486486486487, 'w': 4.324324324324325, 'x': 2.7027027027027026, 'y': 4.324324324324325, 'z': 1.6216216216216217}\n"
          ]
        },
        {
          "output_type": "display_data",
          "data": {
            "text/plain": [
              "<Figure size 432x288 with 1 Axes>"
            ],
            "image/png": "[encoded data removed]"
          },
          "metadata": {
            "needs_background": "light"
          }
        }
      ]
    },
    {
      "cell_type": "markdown",
      "source": [
        "There is a lot of flatness in the cipher text distribution. This indicates that the encryption is unlikely to be monoalphabetic. We try using one of the most common polyaplhabetic substitution."
      ],
      "metadata": {
        "id": "nNA2C1YUq12u"
      }
    },
    {
      "cell_type": "markdown",
      "source": [
        "### **Breaking Vigenere Encryption** \n"
      ],
      "metadata": {
        "id": "eUO0RHjCFKV-"
      }
    },
    {
      "cell_type": "markdown",
      "source": [
        "#### **Finding Key Size**"
      ],
      "metadata": {
        "id": "EpRedSx1G6Hj"
      }
    },
    {
      "cell_type": "code",
      "source": [
        "digraph_positions=dict()\n",
        "\n",
        "for i in range (0, len(cipher_text_concat)-1):\n",
        "  digraph=cipher_text_concat[i]+cipher_text_concat[i+1]\n",
        "  if digraph in digraph_positions.keys():\n",
        "    digraph_positions[digraph].append(i)\n",
        "  else:\n",
        "    temp_list=[]\n",
        "    temp_list.append(i)\n",
        "    digraph_positions[digraph]=temp_list\n",
        "\n",
        "print(digraph_positions)"
      ],
      "metadata": {
        "colab": {
          "base_uri": "https://localhost:8080/"
        },
        "id": "KQZ3blT6ThHU",
        "outputId": "5cc4784a-9d83-4334-c6c5-9cd6799502a6"
      },
      "execution_count": 44,
      "outputs": [
        {
          "output_type": "stream",
          "name": "stdout",
          "text": [
            "{'kg': [0], 'gf': [1], 'fc': [2], 'cw': [3], 'wd': [4], 'dq': [5], 'qh': [6], 'hv': [7], 'vi': [8], 'in': [9], 'np': [10, 112, 122], 'pn': [11], 'nz': [12], 'zy': [13], 'yh': [14], 'hj': [15], 'jc': [16, 124], 'co': [17], 'oc': [18, 96], 'cn': [19, 144], 'nt': [20, 30, 132, 182], 'tc': [21, 109, 179], 'cj': [22, 42, 120, 140, 180], 'jj': [23, 43], 'jw': [24, 44], 'wg': [25, 45], 'gk': [26, 38], 'ku': [27], 'uw': [28], 'wn': [29], 'th': [31, 135], 'hn': [32], 'nn': [33, 157], 'ny': [34], 'yv': [35], 'vn': [36], 'ng': [37, 142, 160], 'kx': [39], 'xa': [40], 'ac': [41], 'gu': [46], 'ur': [47], 'rf': [48], 'fj': [49], 'jm': [50], 'mx': [51], 'xw': [52, 92, 100], 'wy': [53], 'yy': [54], 'yj': [55, 115], 'jg': [56, 67, 107], 'gr': [57, 77], 'rb': [58], 'bb': [59], 'bu': [60], 'uf': [61], 'fq': [62], 'qw': [63], 'wi': [64], 'iv': [65], 'vj': [66, 106], 'gd': [68], 'dj': [69], 'jx': [70], 'xn': [71], 'no': [72, 158], 'of': [73], 'fs': [74], 'sd': [75], 'dg': [76], 'rm': [78], 'mn': [79], 'nc': [80], 'cb': [81], 'bg': [82], 'gi': [83], 'iy': [84], 'yq': [85], 'qi': [86], 'iq': [87], 'qu': [88], 'uq': [89], 'qt': [90, 176], 'tx': [91], 'wl': [93], 'lm': [94], 'mo': [95], 'ca': [97, 103], 'az': [98], 'zx': [99], 'wq': [101], 'qc': [102], 'aj': [104], 'jv': [105], 'gt': [108], 'ct': [110], 'tn': [111], 'pl': [113], 'ly': [114], 'jh': [116], 'hq': [117], 'qs': [118], 'sc': [119], 'jn': [121, 141, 181], 'pj': [123], 'cv': [125], 've': [126], 'ej': [127], 'jb': [128], 'bv': [129], 'vd': [130], 'dn': [131], 'ty': [133], 'yt': [134], 'hk': [136], 'kp': [137], 'pe': [138], 'ec': [139], 'gc': [143], 'nv': [145], 'va': [146], 'aq': [147], 'qv': [148], 'vo': [149], 'ok': [150], 'ka': [151], 'au': [152], 'uy': [153], 'yb': [154], 'bk': [155], 'kn': [156], 'on': [159], 'gm': [161], 'mv': [162], 'vt': [163], 'tz': [164], 'zv': [165], 'vv': [166], 'vg': [167], 'gs': [168], 'sv': [169], 'vc': [170], 'cp': [171], 'pk': [172], 'kh': [173], 'hb': [174], 'bq': [175], 'tf': [177], 'ft': [178], 'tj': [183]}\n"
          ]
        }
      ]
    },
    {
      "cell_type": "code",
      "source": [
        "for digraph in digraph_positions:\n",
        "  if (len(digraph_positions[digraph])>2):\n",
        "    print(digraph, \": \", digraph_positions[digraph])"
      ],
      "metadata": {
        "colab": {
          "base_uri": "https://localhost:8080/"
        },
        "id": "Wo6f2ugKWaKV",
        "outputId": "39f90cf0-7d54-402c-b1ca-a725658ccd10"
      },
      "execution_count": 45,
      "outputs": [
        {
          "output_type": "stream",
          "name": "stdout",
          "text": [
            "np :  [10, 112, 122]\n",
            "nt :  [20, 30, 132, 182]\n",
            "tc :  [21, 109, 179]\n",
            "cj :  [22, 42, 120, 140, 180]\n",
            "ng :  [37, 142, 160]\n",
            "xw :  [52, 92, 100]\n",
            "jg :  [56, 67, 107]\n",
            "jn :  [121, 141, 181]\n"
          ]
        }
      ]
    },
    {
      "cell_type": "code",
      "source": [
        "diff_freq={}\n",
        "\n",
        "for digraph in digraph_positions:\n",
        "  if (len(digraph_positions[digraph])>2):\n",
        "    for i in range (1, len(digraph_positions[digraph])):\n",
        "      diff=digraph_positions[digraph][i]-digraph_positions[digraph][i-1]\n",
        "      if diff in diff_freq.keys():\n",
        "        diff_freq[diff]=diff_freq[diff]+1\n",
        "      else:\n",
        "        diff_freq[diff]=1\n",
        "\n",
        "myKeys = list(diff_freq.keys())\n",
        "myKeys.sort()\n",
        "sorted_diff_freq = {i: diff_freq[i] for i in myKeys}\n",
        "\n",
        "sorted_diff_freq"
      ],
      "metadata": {
        "colab": {
          "base_uri": "https://localhost:8080/"
        },
        "id": "TeKCucpPXyZL",
        "outputId": "aceca7ac-75fb-46f6-bc00-c7abc1f4fc2c"
      },
      "execution_count": 46,
      "outputs": [
        {
          "output_type": "execute_result",
          "data": {
            "text/plain": [
              "{8: 1,\n",
              " 10: 2,\n",
              " 11: 1,\n",
              " 18: 1,\n",
              " 20: 3,\n",
              " 40: 4,\n",
              " 50: 1,\n",
              " 70: 1,\n",
              " 78: 1,\n",
              " 88: 1,\n",
              " 102: 2,\n",
              " 105: 1}"
            ]
          },
          "metadata": {},
          "execution_count": 46
        }
      ]
    },
    {
      "cell_type": "code",
      "source": [
        "possible_lengths={}\n",
        "\n",
        "for d in sorted_diff_freq.keys():\n",
        "  prime_factors=get_prime_factors(d)\n",
        "  for pf in prime_factors:\n",
        "    if pf in possible_lengths.keys():\n",
        "      possible_lengths[pf]=possible_lengths[pf]+sorted_diff_freq[d]\n",
        "    else:\n",
        "      possible_lengths[pf]=sorted_diff_freq[d]\n",
        "\n",
        "possible_lengths"
      ],
      "metadata": {
        "colab": {
          "base_uri": "https://localhost:8080/"
        },
        "id": "B0ttUseSbLUD",
        "outputId": "0a961ac2-c9eb-49bb-eaad-0fb9302197fd"
      },
      "execution_count": 47,
      "outputs": [
        {
          "output_type": "execute_result",
          "data": {
            "text/plain": [
              "{2: 32, 5: 13, 11: 2, 3: 6, 7: 2, 13: 1, 17: 2}"
            ]
          },
          "metadata": {},
          "execution_count": 47
        }
      ]
    },
    {
      "cell_type": "code",
      "source": [
        "plot_bar_graph(list(possible_lengths.keys()),list(possible_lengths.values()))"
      ],
      "metadata": {
        "colab": {
          "base_uri": "https://localhost:8080/",
          "height": 265
        },
        "id": "lWzOIwahcvd0",
        "outputId": "a1b87fd2-5b8a-40a8-8df0-8e503691f6b3"
      },
      "execution_count": 48,
      "outputs": [
        {
          "output_type": "display_data",
          "data": {
            "text/plain": [
              "<Figure size 432x288 with 1 Axes>"
            ],
            "image/png": "[encoded data removed]"
          },
          "metadata": {
            "needs_background": "light"
          }
        }
      ]
    },
    {
      "cell_type": "markdown",
      "source": [
        "The above analysis strongly suggests that the `key length` is `2`, `5` or `10`."
      ],
      "metadata": {
        "id": "x_uBamEydHo1"
      }
    },
    {
      "cell_type": "markdown",
      "source": [
        "#### **Frequency Analysis** \n",
        "We assume key length to be `10`. In any case, since `2` and `5` are factors of `10`, this assumption includes the other possibilities as well."
      ],
      "metadata": {
        "id": "hdX7R3T9dpkE"
      }
    },
    {
      "cell_type": "code",
      "source": [
        "ideal_freq_dist={'a':8.2, 'b':1.5, 'c':2.8, 'd':4.3, 'e':13, 'f':2.2, 'g':2, 'h':6.1, 'i':7, 'j':0.15, 'k':0.77, 'l':4, 'm':2.4, 'n':6.7, 'o':7.5, 'p':1.9, 'q':0.095, 'r':6, 's':6.3, 't':9.1, 'u':2.8, 'v':0.98, 'w':2.4, 'x':0.15, 'y':2, 'z':0.074}"
      ],
      "metadata": {
        "id": "3KkGFR4E6h-7"
      },
      "execution_count": 49,
      "outputs": []
    },
    {
      "cell_type": "code",
      "source": [
        "plot_bar_graph(list(ideal_freq_dist.keys()),list(ideal_freq_dist.values()))"
      ],
      "metadata": {
        "colab": {
          "base_uri": "https://localhost:8080/",
          "height": 265
        },
        "id": "O2KcxB0J729e",
        "outputId": "e0276b9a-dd80-4a46-a265-aef78b64f0b9"
      },
      "execution_count": 50,
      "outputs": [
        {
          "output_type": "display_data",
          "data": {
            "text/plain": [
              "<Figure size 432x288 with 1 Axes>"
            ],
            "image/png": "[encoded data removed]"
          },
          "metadata": {
            "needs_background": "light"
          }
        }
      ]
    },
    {
      "cell_type": "code",
      "source": [
        "freq_list=list(ideal_freq_dist.values())"
      ],
      "metadata": {
        "id": "iEh2jwLWIHQw"
      },
      "execution_count": 51,
      "outputs": []
    },
    {
      "cell_type": "code",
      "source": [
        "def find_best_shift(dist, count):\n",
        "  scores=[]\n",
        "  adjust_factor=100/count\n",
        "  for shift in range (0,26):\n",
        "    a_id=(0+shift)%26 # 13%\n",
        "    e_id=(4+shift)%26 # 8.2%\n",
        "\n",
        "    score=dist[a_id]+dist[e_id]\n",
        "    scores.append(score)\n",
        "  # print(scores)\n",
        "  return scores.index(max(scores))"
      ],
      "metadata": {
        "id": "392cVOqv6X4A"
      },
      "execution_count": 52,
      "outputs": []
    },
    {
      "cell_type": "code",
      "source": [
        "shifts=[]\n",
        "key=\"\"\n",
        "for i in range (0,10):\n",
        "  distribution={'a':0, 'b':0, 'c':0, 'd':0, 'e':0, 'f':0, 'g':0, 'h':0, 'i':0, 'j':0, 'k':0, 'l':0, 'm':0, 'n':0, 'o':0, 'p':0, 'q':0, 'r':0, 's':0, 't':0, 'u':0, 'v':0, 'w':0, 'x':0, 'y':0, 'z':0}\n",
        "  count=0\n",
        "  for j in range (i, len(cipher_text_concat),10):\n",
        "    count=count+1\n",
        "    distribution[cipher_text_concat[j]]=distribution[cipher_text_concat[j]]+1\n",
        "  shifts.append(find_best_shift(list(distribution.values()),count))\n",
        "  print(\"shift by:\", shifts[i],\" letter:\",chr(ord('a')+shifts[i]))\n",
        "  key+=chr(ord('a')+shifts[i])\n",
        "  plot_bar_graph(list(distribution.keys()),list(distribution.values()))\n"
      ],
      "metadata": {
        "colab": {
          "base_uri": "https://localhost:8080/",
          "height": 1000
        },
        "id": "zUc_-xsmyPKQ",
        "outputId": "de1cad4a-a0a6-4def-c5a3-36244ee7ba3d"
      },
      "execution_count": 53,
      "outputs": [
        {
          "output_type": "stream",
          "name": "stdout",
          "text": [
            "shift by: 9  letter: j\n"
          ]
        },
        {
          "output_type": "display_data",
          "data": {
            "text/plain": [
              "<Figure size 432x288 with 1 Axes>"
            ],
            "image/png": "[encoded data removed]"
          },
          "metadata": {
            "needs_background": "light"
          }
        },
        {
          "output_type": "stream",
          "name": "stdout",
          "text": [
            "shift by: 15  letter: p\n"
          ]
        },
        {
          "output_type": "display_data",
          "data": {
            "text/plain": [
              "<Figure size 432x288 with 1 Axes>"
            ],
            "image/png": "[encoded data removed]"
          },
          "metadata": {
            "needs_background": "light"
          }
        },
        {
          "output_type": "stream",
          "name": "stdout",
          "text": [
            "shift by: 9  letter: j\n"
          ]
        },
        {
          "output_type": "display_data",
          "data": {
            "text/plain": [
              "<Figure size 432x288 with 1 Axes>"
            ],
            "image/png": "[encoded data removed]"
          },
          "metadata": {
            "needs_background": "light"
          }
        },
        {
          "output_type": "stream",
          "name": "stdout",
          "text": [
            "shift by: 2  letter: c\n"
          ]
        },
        {
          "output_type": "display_data",
          "data": {
            "text/plain": [
              "<Figure size 432x288 with 1 Axes>"
            ],
            "image/png": "[encoded data removed]"
          },
          "metadata": {
            "needs_background": "light"
          }
        },
        {
          "output_type": "stream",
          "name": "stdout",
          "text": [
            "shift by: 5  letter: f\n"
          ]
        },
        {
          "output_type": "display_data",
          "data": {
            "text/plain": [
              "<Figure size 432x288 with 1 Axes>"
            ],
            "image/png": "[encoded data removed]"
          },
          "metadata": {
            "needs_background": "light"
          }
        },
        {
          "output_type": "stream",
          "name": "stdout",
          "text": [
            "shift by: 24  letter: y\n"
          ]
        },
        {
          "output_type": "display_data",
          "data": {
            "text/plain": [
              "<Figure size 432x288 with 1 Axes>"
            ],
            "image/png": "[encoded data removed]"
          },
          "metadata": {
            "needs_background": "light"
          }
        },
        {
          "output_type": "stream",
          "name": "stdout",
          "text": [
            "shift by: 17  letter: r\n"
          ]
        },
        {
          "output_type": "display_data",
          "data": {
            "text/plain": [
              "<Figure size 432x288 with 1 Axes>"
            ],
            "image/png": "[encoded data removed]"
          },
          "metadata": {
            "needs_background": "light"
          }
        },
        {
          "output_type": "stream",
          "name": "stdout",
          "text": [
            "shift by: 2  letter: c\n"
          ]
        },
        {
          "output_type": "display_data",
          "data": {
            "text/plain": [
              "<Figure size 432x288 with 1 Axes>"
            ],
            "image/png": "[encoded data removed]"
          },
          "metadata": {
            "needs_background": "light"
          }
        },
        {
          "output_type": "stream",
          "name": "stdout",
          "text": [
            "shift by: 2  letter: c\n"
          ]
        },
        {
          "output_type": "display_data",
          "data": {
            "text/plain": [
              "<Figure size 432x288 with 1 Axes>"
            ],
            "image/png": "[encoded data removed]"
          },
          "metadata": {
            "needs_background": "light"
          }
        },
        {
          "output_type": "stream",
          "name": "stdout",
          "text": [
            "shift by: 1  letter: b\n"
          ]
        },
        {
          "output_type": "display_data",
          "data": {
            "text/plain": [
              "<Figure size 432x288 with 1 Axes>"
            ],
            "image/png": "[encoded data removed]"
          },
          "metadata": {
            "needs_background": "light"
          }
        }
      ]
    },
    {
      "cell_type": "code",
      "source": [
        "key"
      ],
      "metadata": {
        "colab": {
          "base_uri": "https://localhost:8080/",
          "height": 36
        },
        "id": "7ZzKo-26KqWU",
        "outputId": "dbd5b34f-631c-4de8-9ebf-8f32aa9dd88f"
      },
      "execution_count": 54,
      "outputs": [
        {
          "output_type": "execute_result",
          "data": {
            "text/plain": [
              "'jpjcfyrccb'"
            ],
            "application/vnd.google.colaboratory.intrinsic+json": {
              "type": "string"
            }
          },
          "metadata": {},
          "execution_count": 54
        }
      ]
    },
    {
      "cell_type": "code",
      "source": [
        "plain_text=decrypt(cipher_text_concat,key)\n",
        "plain_text"
      ],
      "metadata": {
        "colab": {
          "base_uri": "https://localhost:8080/",
          "height": 53
        },
        "id": "RgoEV98zJrGQ",
        "outputId": "f101ab46-abb4-4f38-8088-31686bece492"
      },
      "execution_count": 55,
      "outputs": [
        {
          "output_type": "execute_result",
          "data": {
            "text/plain": [
              "'brwarfzftheaextjsambeetheypisveeyliaelejoltheypspeaxoutasepasfworkehecaiemaumeplensedazgotheougoxayyohhavlehesteengasfortueneeechamoertvqindtueexpeyoufvrstdtllnerdtobetermngicdzrdstuere'"
            ],
            "application/vnd.google.colaboratory.intrinsic+json": {
              "type": "string"
            }
          },
          "metadata": {},
          "execution_count": 55
        }
      ]
    },
    {
      "cell_type": "code",
      "source": [
        "decryption_cleaned=\"\"\n",
        "spaces=0\n",
        "for i in range (0, len(cipher_text)):\n",
        "  if (cipher_text[i]==\" \"):\n",
        "    decryption_cleaned+=\" \"\n",
        "    spaces=spaces+1\n",
        "  else:\n",
        "    decryption_cleaned+=plain_text[i-spaces]\n",
        "\n",
        "decryption_cleaned"
      ],
      "metadata": {
        "colab": {
          "base_uri": "https://localhost:8080/",
          "height": 53
        },
        "id": "AcEl1NIcODQ5",
        "outputId": "1a7eca8e-21b2-41bc-ab71-88d695256212"
      },
      "execution_count": 56,
      "outputs": [
        {
          "output_type": "execute_result",
          "data": {
            "text/plain": [
              "'br warf zf the aext jsambee theyp is veey liaele jol theyp speax out ase pasfwork ehecaiemaumeplensed az go theougo xay yoh havl ehe steengas for tue neee chamoer tv qind tue expe you fvrst dtll nerd to beter mngic dzrds tuere'"
            ],
            "application/vnd.google.colaboratory.intrinsic+json": {
              "type": "string"
            }
          },
          "metadata": {},
          "execution_count": 56
        }
      ]
    },
    {
      "cell_type": "markdown",
      "source": [
        "The letters are still scrambled, indicating that the some part of the key is not correct (which is quite possible due to limited letters ~19 per distribution)\n",
        "\n",
        "Strong guesses:\n",
        "\n",
        "\n",
        "1.   `veey` seems to be `very`\n",
        "2.   Since there were quotes around, it is likely that the word before is `password`. Our key gives `pasfwork`, which just adds to our bias.\n",
        "3. `e->r` and `f->s` in the above points, were both encrypted with the same key, and our guesses are constant shift away from the wrong letters (i.e. `r-e = s-f`). Hence, it should have been: `t->r` and `u->s`. So `shift`~`t-r`=`u-s`=`2`. This means, the second character of the key is `c` and not `p`.\n",
        "4. Now, `passwork`\\~`password`. We also see many other errors with the 6th character of the key: `tv`\\~`to`, `havl`\\~`have`. This implies, `shift`=`5`, i.e. the key at the 6th position is `f` and not `y`.\n",
        "5. Now, in the 7th character of the key, the errors seen: `zf`\\~`of`, `tse`\\~`the`,`tz`\\~`to`. This implies, `shift`=`5`, i.e. the key at the 7th position is `c` and not `r`.\n",
        "6. Finally, we see that all the words make sense. Hence, we conclude that `key`=`jcjcffcccb`.\n",
        "\n"
      ],
      "metadata": {
        "id": "A1ZYklGnQF9a"
      }
    },
    {
      "cell_type": "markdown",
      "source": [
        "###### Found key \n",
        "`key_found`=`jpjcfyrccb`. Let the `ith` character be denoted by `key[i]`."
      ],
      "metadata": {
        "id": "9ZsbWvpuaXh0"
      }
    },
    {
      "cell_type": "code",
      "source": [
        "print(cipher_text)\n",
        "print(\"\\n\")\n",
        "\n",
        "for c in decryption_cleaned:\n",
        "  if (c==\" \"):\n",
        "    print(\" \",end=\"\")\n",
        "    continue\n",
        "  else:\n",
        "    print(c,end=\"\")"
      ],
      "metadata": {
        "colab": {
          "base_uri": "https://localhost:8080/"
        },
        "id": "kLVDOfiKQYZZ",
        "outputId": "819700e1-b776-4535-d717-2301bfb276b3"
      },
      "execution_count": 57,
      "outputs": [
        {
          "output_type": "stream",
          "name": "stdout",
          "text": [
            "kg fcwd qh vin pnzy hjcocnt cjjwg ku wnth nnyvng kxa cjjwg urfjm xwy yjg rbbufqwi vjgdjxnofsdgrmncbgi yq iq uqtxwlm oca zxw qcaj vjg tctnplyj hqs cjn pjcv ejbvdnt yt hkpe cjn gcnv aqv okauy bknn ongm vt zvvgs vcpkh bqtft cjntj\n",
            "\n",
            "\n",
            "br warf zf the aext jsambee theyp is veey liaele jol theyp speax out ase pasfwork ehecaiemaumeplensed az go theougo xay yoh havl ehe steengas for tue neee chamoer tv qind tue expe you fvrst dtll nerd to beter mngic dzrds tuere"
          ]
        }
      ]
    },
    {
      "cell_type": "markdown",
      "source": [
        "###### After updating `key[2]`"
      ],
      "metadata": {
        "id": "9Ivct0T4ahKR"
      }
    },
    {
      "cell_type": "code",
      "source": [
        "key_updated1=\"jcjcfyrccb\""
      ],
      "metadata": {
        "id": "zL9GhwdVXVvL"
      },
      "execution_count": 58,
      "outputs": []
    },
    {
      "cell_type": "code",
      "source": [
        "plain_text=decrypt(cipher_text_concat,key_updated1)\n",
        "print(plain_text)\n",
        "\n",
        "decryption_cleaned=\"\"\n",
        "spaces=0\n",
        "for i in range (0, len(cipher_text)):\n",
        "  if (cipher_text[i]==\" \"):\n",
        "    decryption_cleaned+=\" \"\n",
        "    spaces=spaces+1\n",
        "  else:\n",
        "    decryption_cleaned+=plain_text[i-spaces]\n",
        "\n",
        "print(decryption_cleaned)"
      ],
      "metadata": {
        "colab": {
          "base_uri": "https://localhost:8080/"
        },
        "id": "WEQCm68iXvJf",
        "outputId": "e0b9e285-a730-42b6-cc50-f3ce39044fb1"
      },
      "execution_count": 59,
      "outputs": [
        {
          "output_type": "stream",
          "name": "stdout",
          "text": [
            "bewarfzfthenextjsambertheypisveryliaelejoytheypspeakoutasepassworkehecavemaumepleasedazgothrougoxayyouhavlehestrengasfortheneeechambertvqindtheexpeyoufirstdtllneedtobetermagicdzrdsthere\n",
            "be warf zf the next jsamber theyp is very liaele joy theyp speak out ase passwork ehecavemaumepleased az go througo xay you havl ehe strengas for the neee chamber tv qind the expe you first dtll need to beter magic dzrds there\n"
          ]
        }
      ]
    },
    {
      "cell_type": "code",
      "source": [
        "print(cipher_text)\n",
        "print(\"\\n\")\n",
        "\n",
        "for c in decryption_cleaned:\n",
        "  if (c==\" \"):\n",
        "    print(\" \",end=\"\")\n",
        "    continue\n",
        "  else:\n",
        "    print(c,end=\"\")"
      ],
      "metadata": {
        "colab": {
          "base_uri": "https://localhost:8080/"
        },
        "id": "m1wOjKKOYCV3",
        "outputId": "6bc3ce29-410b-4e4f-def9-ede6f6238ea7"
      },
      "execution_count": 60,
      "outputs": [
        {
          "output_type": "stream",
          "name": "stdout",
          "text": [
            "kg fcwd qh vin pnzy hjcocnt cjjwg ku wnth nnyvng kxa cjjwg urfjm xwy yjg rbbufqwi vjgdjxnofsdgrmncbgi yq iq uqtxwlm oca zxw qcaj vjg tctnplyj hqs cjn pjcv ejbvdnt yt hkpe cjn gcnv aqv okauy bknn ongm vt zvvgs vcpkh bqtft cjntj\n",
            "\n",
            "\n",
            "be warf zf the next jsamber theyp is very liaele joy theyp speak out ase passwork ehecavemaumepleased az go througo xay you havl ehe strengas for the neee chamber tv qind the expe you first dtll need to beter magic dzrds there"
          ]
        }
      ]
    },
    {
      "cell_type": "markdown",
      "source": [
        "##### After updating `key[6]`"
      ],
      "metadata": {
        "id": "j7uGL4Dpaudb"
      }
    },
    {
      "cell_type": "code",
      "source": [
        "key_updated1=\"jcjcffrccb\""
      ],
      "metadata": {
        "id": "zyRBCadIa0fm"
      },
      "execution_count": 61,
      "outputs": []
    },
    {
      "cell_type": "code",
      "source": [
        "plain_text=decrypt(cipher_text_concat,key_updated1)\n",
        "print(plain_text)\n",
        "\n",
        "decryption_cleaned=\"\"\n",
        "spaces=0\n",
        "for i in range (0, len(cipher_text)):\n",
        "  if (cipher_text[i]==\" \"):\n",
        "    decryption_cleaned+=\" \"\n",
        "    spaces=spaces+1\n",
        "  else:\n",
        "    decryption_cleaned+=plain_text[i-spaces]\n",
        "\n",
        "print(decryption_cleaned)"
      ],
      "metadata": {
        "colab": {
          "base_uri": "https://localhost:8080/"
        },
        "id": "i34GoKyYbK1j",
        "outputId": "af2c73ab-64fc-4b66-c059-e5f0b6837d1c"
      },
      "execution_count": 62,
      "outputs": [
        {
          "output_type": "stream",
          "name": "stdout",
          "text": [
            "bewaryzfthenextcsambertherpisverylitelejoytherpspeakouttsepasswordehecavemanmepleasedtzgothroughxayyouhaveehestrengtsforthenexechambertoqindtheexieyoufirstwtllneedtouetermagicwzrdsthere\n",
            "be wary zf the next csamber therp is very litele joy therp speak out tse password ehecavemanmepleased tz go through xay you have ehe strengts for the nexe chamber to qind the exie you first wtll need to ueter magic wzrds there\n"
          ]
        }
      ]
    },
    {
      "cell_type": "code",
      "source": [
        "print(cipher_text)\n",
        "print(\"\\n\")\n",
        "\n",
        "for c in decryption_cleaned:\n",
        "  if (c==\" \"):\n",
        "    print(\" \",end=\"\")\n",
        "    continue\n",
        "  else:\n",
        "    print(c,end=\"\")"
      ],
      "metadata": {
        "colab": {
          "base_uri": "https://localhost:8080/"
        },
        "id": "rk3jNc1NbN4W",
        "outputId": "ddfb5d30-8f41-46af-a312-6b63729759ab"
      },
      "execution_count": 63,
      "outputs": [
        {
          "output_type": "stream",
          "name": "stdout",
          "text": [
            "kg fcwd qh vin pnzy hjcocnt cjjwg ku wnth nnyvng kxa cjjwg urfjm xwy yjg rbbufqwi vjgdjxnofsdgrmncbgi yq iq uqtxwlm oca zxw qcaj vjg tctnplyj hqs cjn pjcv ejbvdnt yt hkpe cjn gcnv aqv okauy bknn ongm vt zvvgs vcpkh bqtft cjntj\n",
            "\n",
            "\n",
            "be wary zf the next csamber therp is very litele joy therp speak out tse password ehecavemanmepleased tz go through xay you have ehe strengts for the nexe chamber to qind the exie you first wtll need to ueter magic wzrds there"
          ]
        }
      ]
    },
    {
      "cell_type": "markdown",
      "source": [
        "##### After updating `key[7]`"
      ],
      "metadata": {
        "id": "O4UB3-Robadx"
      }
    },
    {
      "cell_type": "code",
      "source": [
        "key_updated1=\"jcjcffcccb\""
      ],
      "metadata": {
        "id": "ghfO7uAgbe76"
      },
      "execution_count": 64,
      "outputs": []
    },
    {
      "cell_type": "code",
      "source": [
        "plain_text=decrypt(cipher_text_concat,key_updated1)\n",
        "print(plain_text)\n",
        "\n",
        "decryption_cleaned=\"\"\n",
        "spaces=0\n",
        "for i in range (0, len(cipher_text)):\n",
        "  if (cipher_text[i]==\" \"):\n",
        "    decryption_cleaned+=\" \"\n",
        "    spaces=spaces+1\n",
        "  else:\n",
        "    decryption_cleaned+=plain_text[i-spaces]\n",
        "\n",
        "print(decryption_cleaned)"
      ],
      "metadata": {
        "colab": {
          "base_uri": "https://localhost:8080/"
        },
        "id": "Xx9mmIJKeYe_",
        "outputId": "a49a2482-1336-483d-d3b4-0abf9e52a822"
      },
      "execution_count": 65,
      "outputs": [
        {
          "output_type": "stream",
          "name": "stdout",
          "text": [
            "bewaryofthenextchamberthereisverylittlejoytherespeakoutthepasswordthecavemanbepleasedtogothroughmayyouhavethestrengthforthenextchambertofindtheexityoufirstwillneedtouttermagicwordsthere\n",
            "be wary of the next chamber there is very little joy there speak out the password thecavemanbepleased to go through may you have the strength for the next chamber to find the exit you first will need to utter magic words there\n"
          ]
        }
      ]
    },
    {
      "cell_type": "code",
      "source": [
        "print(cipher_text)\n",
        "print(\"\\n\")\n",
        "\n",
        "for c in decryption_cleaned:\n",
        "  if (c==\" \"):\n",
        "    print(\" \",end=\"\")\n",
        "    continue\n",
        "  else:\n",
        "    print(c,end=\"\")"
      ],
      "metadata": {
        "colab": {
          "base_uri": "https://localhost:8080/"
        },
        "id": "ftmkFjIreZ_5",
        "outputId": "d95ae873-c8d9-4c5a-c837-e02a2389cb9c"
      },
      "execution_count": 66,
      "outputs": [
        {
          "output_type": "stream",
          "name": "stdout",
          "text": [
            "kg fcwd qh vin pnzy hjcocnt cjjwg ku wnth nnyvng kxa cjjwg urfjm xwy yjg rbbufqwi vjgdjxnofsdgrmncbgi yq iq uqtxwlm oca zxw qcaj vjg tctnplyj hqs cjn pjcv ejbvdnt yt hkpe cjn gcnv aqv okauy bknn ongm vt zvvgs vcpkh bqtft cjntj\n",
            "\n",
            "\n",
            "be wary of the next chamber there is very little joy there speak out the password thecavemanbepleased to go through may you have the strength for the next chamber to find the exit you first will need to utter magic words there"
          ]
        }
      ]
    }
  ]
}