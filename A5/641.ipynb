{
 "cells": [
  {
   "cell_type": "code",
   "execution_count": 625,
   "metadata": {},
   "outputs": [],
   "source": [
    "import numpy as np\n",
    "from pyfinite import ffield"
   ]
  },
  {
   "cell_type": "code",
   "execution_count": 626,
   "metadata": {},
   "outputs": [],
   "source": [
    "string_to_char = {\"0000\": 'f', \"0001\": 'g', \"0010\": 'h', \"0011\": 'i', \"0100\": 'j', \"0101\": 'k', \"0110\": 'l', \"0111\": 'm',\n",
    " \"1000\": 'n', \"1001\": 'o', \"1010\": 'p', \"1011\": 'q', \"1100\": 'r', \"1101\": 's', \"1110\": 't', \"1111\": 'u'}\n",
    "\n",
    "char_to_string = {'f' : \"0000\", 'g' : \"0001\", 'h' : \"0010\", 'i' : \"0011\", 'j' : \"0100\", 'k' : \"0101\", 'l' : \"0110\", 'm' : \"0111\",\n",
    " 'n' : \"1000\", 'o' : \"1001\", 'p' : \"1010\", 'q' : \"1011\", 'r' : \"1100\", 's' : \"1101\", 't' : \"1110\", 'u' : \"1111\"}"
   ]
  },
  {
   "cell_type": "code",
   "execution_count": 627,
   "metadata": {},
   "outputs": [],
   "source": [
    "def pair_to_binary(st): #It maps a pair of characters to binary string representation of a byte \n",
    "    ret = char_to_string[st[0]]+char_to_string[st[1]]\n",
    "    return ret\n",
    "\n",
    "def int_to_pair(b): #It converts byte to corresponding two characters\n",
    "\n",
    "    byte_string = bin(b)\n",
    "    byte_string = byte_string[2:]\n",
    "\n",
    "    lencur = len(byte_string) #need to pad with zeros so that the length of string is 8\n",
    "    for i in range(8-lencur):\n",
    "        byte_string='0'+byte_string\n",
    "    \n",
    "    # print(byte_string)\n",
    "    char1 = string_to_char[byte_string[0:4]]\n",
    "    char2 = string_to_char[byte_string[4:8]]\n",
    "\n",
    "    return char1+char2\n",
    "\n",
    "\n",
    "def binary_string_to_int(st):\n",
    "    return int(st, 2)\n",
    "\n",
    "def block_to_binary(c):\n",
    "    ret = \"\"\n",
    "    for i in range(0, len(c), 2):\n",
    "        ret += pair_to_binary(c[i:i+2])\n",
    "    return ret"
   ]
  },
  {
   "cell_type": "code",
   "execution_count": 628,
   "metadata": {},
   "outputs": [
    {
     "name": "stdout",
     "output_type": "stream",
     "text": [
      "ln\n",
      "78\n",
      "01001110\n"
     ]
    },
    {
     "data": {
      "text/plain": [
       "'0000000100100100010101100111100000000001001001000101011001111000'"
      ]
     },
     "execution_count": 628,
     "metadata": {},
     "output_type": "execute_result"
    }
   ],
   "source": [
    "print(int_to_pair(104))\n",
    "print(binary_string_to_int(\"01001110\"))\n",
    "print(pair_to_binary(\"jt\"))\n",
    "block_to_binary(\"fghjklmnfghjklmn\")"
   ]
  },
  {
   "cell_type": "code",
   "execution_count": 629,
   "metadata": {},
   "outputs": [],
   "source": [
    "#define some reusable functinos\n",
    "\n",
    "F = ffield.FField(7) #create the field of size 2^7 (not 2^8)\n",
    "exp_store = [[0]*128 for i in range(128)]\n",
    "\n",
    "def Add(a, b):\n",
    "    return F.Add(a, b) \n",
    "\n",
    "def Multiply(a, b):        \n",
    "    return F.Multiply(a, b)\n",
    "\n",
    "def preExp():\n",
    "    for i in range(128):\n",
    "        exp_store[i][1] = i\n",
    "        for j in range(2, 128):\n",
    "            exp_store[i][j] = F.Multiply(i, exp_store[i][j-1])\n",
    "\n",
    "def Exp(no, pow):\n",
    "    return exp_store[no][pow]\n",
    "\n",
    "preExp() # fill Exp table"
   ]
  },
  {
   "cell_type": "code",
   "execution_count": 630,
   "metadata": {},
   "outputs": [],
   "source": [
    "def Add_vectors(v1, v2): \n",
    "    if(len(v1)!=len(v2)):\n",
    "        return \"ERROR! DIMENSIONS OF VECTORS IN ADDITION DON'T MATCH\"\n",
    "    result = [0, 0, 0, 0, 0, 0, 0, 0]\n",
    "\n",
    "    for i in range(len(v1)):\n",
    "        result[i] = Add(v1[i], v2[i])\n",
    "    return result\n",
    "\n",
    "def Mul_vector_scalar(v, cons): #multiply vector v by cons (scalar multiplication) in the field F\n",
    "    result = [0, 0, 0, 0, 0, 0, 0, 0]\n",
    "    \n",
    "    for i in range(len(v)):\n",
    "        result[i] = Multiply(v[i], cons)\n",
    "    return result\n",
    "\n",
    "def Mul_matrix_vector(M, V):\n",
    "    res = [0, 0, 0, 0, 0, 0, 0, 0]\n",
    "\n",
    "    for r, ele in zip(M, V):\n",
    "        res = Add_vectors(Mul_vector_scalar(r, ele), res)\n",
    "    return res"
   ]
  },
  {
   "cell_type": "code",
   "execution_count": 631,
   "metadata": {},
   "outputs": [
    {
     "name": "stdout",
     "output_type": "stream",
     "text": [
      "[1, 7, 0, 0, 0, 0, 0, 0]\n",
      "[12, 10, 0, 0, 0, 0, 0, 0]\n",
      "[2, 2, 6, 6, 9, 2, 1, 6]\n"
     ]
    }
   ],
   "source": [
    "print(Add_vectors([2,3, 0, 0, 0 , 0,0 ,0], [3, 4, 0, 0, 0, 0, 0, 0]))\n",
    "print(Mul_vector_scalar([2,3, 0, 0, 0 , 0,0 ,0], 6))\n",
    "print(Mul_matrix_vector([[1, 0, 0, 0, 0, 0, 0 ,0], [0, 1, 0, 0, 0, 0, 0 ,0], [0, 0, 1, 0, 0, 0, 0 ,0], [0, 0, 0, 1, 0, 0, 0 ,0], [0, 0, 0, 0, 1, 0, 0 ,0], [0, 0, 0, 0, 0, 1, 0 ,0], [0, 0, 0, 0, 0, 0, 1 ,0], [0, 0, 0, 0, 0, 0, 0 ,1]], [2, 2, 6, 6, 9, 2, 1, 6]))"
   ]
  },
  {
   "cell_type": "code",
   "execution_count": 632,
   "metadata": {},
   "outputs": [
    {
     "name": "stdout",
     "output_type": "stream",
     "text": [
      "A:  [[[27, 84, 84], [], [], [], [], [], [], []], [[], [10, 18, 70], [], [], [], [], [], []], [[], [], [33, 43, 98], [], [], [], [], []], [[], [], [], [12, 38, 113], [], [], [], []], [[], [], [], [], [28, 62, 112], [], [], []], [[], [], [], [], [], [11, 41, 127], [], []], [[], [], [], [], [], [], [27, 71, 92], []], [[], [], [], [], [], [], [], [5, 38, 93]]]\n",
      "Expoenents:  [[1, 19, 107], [109, 39, 106], [22, 37, 68], [76, 4, 47], [58, 110, 86], [53, 83, 118], [23, 48, 56], [88, 21, 18]]\n"
     ]
    }
   ],
   "source": [
    "\n",
    "candidate_A = [[[] for i in range(8)] for j in range(8)]\n",
    "candidate_exp = [[] for i in range(8)]\n",
    "\n",
    "inp_file = open(\"inputs.txt\", 'r')\n",
    "inputs = inp_file.readlines()\n",
    "\n",
    "out_file = open(\"outputs.txt\", 'r')\n",
    "outputs = out_file.readlines()\n",
    "\n",
    "# print(inputs)\n",
    "# print(outputs)\n",
    "\n",
    "cur_pos=0 #we look at all bytes of the input set one after the other. cur_pos tells the current byte we are looking at\n",
    "\n",
    "#look at ith byte of input when cur_pos = i since only cur_pos is varied in that input set\n",
    "\n",
    "for a in range(len(inputs)): \n",
    "    input_set = inputs[a] #input_set is set of inputs in which we vary only the byte at cur_pos, rest of the bytes are \"ff\"\n",
    "    output_set = outputs[a]\n",
    "\n",
    "    cur_byte_for_inputs = []\n",
    "    cur_byte_for_outputs = []\n",
    "\n",
    "    for each_input in input_set.strip().split(\" \"):\n",
    "        cur_byte_for_inputs.append(binary_string_to_int((block_to_binary(each_input))[8*cur_pos:8*cur_pos+8])) #byte as an int(will be from 0-127)\n",
    "    for each_output in output_set.strip().split(\" \"):\n",
    "        cur_byte_for_outputs.append(binary_string_to_int((block_to_binary(each_output))[8*cur_pos:8*cur_pos+8]))\n",
    "    \n",
    "    # print(cur_byte_for_inputs)\n",
    "    # print(cur_byte_for_outputs)\n",
    "\n",
    "    for i in range(1, 128): #considering all entries in the A[cur_pos][cur_pos]\n",
    "        for j in range(1, 127): #exponent of cur_pos \n",
    "            \n",
    "            flag = True\n",
    "            for lop in range(len(cur_byte_for_inputs)): \n",
    "                val_inp = cur_byte_for_inputs[lop]\n",
    "                cal_out = cur_byte_for_outputs[lop]\n",
    "\n",
    "                if (cal_out != Exp(Multiply(Exp(Multiply(Exp((val_inp), j), i), j), i), j)): #test if for all inputs, we get the calculated and    given bytes as equal for given i, j. We can test like this since all bytes except cur_pos are \"ff\", hence value is 0.  \n",
    "                    \n",
    "                    flag = False\n",
    "                    break\n",
    "            if flag:\n",
    "                candidate_exp[cur_pos].append(j) #maintain E\n",
    "                candidate_A[cur_pos][cur_pos].append(i) #maintain A\n",
    "                # print((i))\n",
    "                # print((j))\n",
    "    cur_pos+=1\n",
    "\n",
    "print(\"A: \",candidate_A)\n",
    "print(\"Expoenents: \", candidate_exp)"
   ]
  },
  {
   "cell_type": "code",
   "execution_count": 633,
   "metadata": {},
   "outputs": [
    {
     "name": "stdout",
     "output_type": "stream",
     "text": [
      "[[84, 115, 0, 0, 0, 0, 0, 0], [0, 70, 17, 0, 0, 0, 0, 0], [0, 0, 43, 25, 0, 0, 0, 0], [0, 0, 0, 12, 111, 0, 0, 0], [0, 0, 0, 0, 112, 101, 0, 0], [0, 0, 0, 0, 0, 11, 82, 0], [0, 0, 0, 0, 0, 0, 27, 10], [0, 0, 0, 0, 0, 0, 0, 38]]\n",
      "\n",
      "Obtained EXP:  [19, 106, 37, 76, 86, 53, 23, 21]\n"
     ]
    }
   ],
   "source": [
    "#got 3 pairs of possible values for values of (A[i][i], E[i]) \n",
    "FINAL_A = [[0 for j in range(8)] for i in range(8)]\n",
    "FINAL_EXP = [0 for i in range(8)]\n",
    "\n",
    "cur_pos=0\n",
    "for a in range(len(inputs)): #we aim to finalise the \n",
    "    \n",
    "    if cur_pos==7:\n",
    "        break\n",
    "\n",
    "    input_set = inputs[a]\n",
    "    output_set = outputs[a]\n",
    "    \n",
    "    cur_byte_for_inputs = []\n",
    "    cur_byte_for_outputs = []\n",
    "    \n",
    "    for each_input in input_set.strip().split(\" \"):\n",
    "        cur_byte_for_inputs.append(binary_string_to_int((block_to_binary(each_input))[8*cur_pos:8*cur_pos+8])) \n",
    "    for each_output in output_set.strip().split(\" \"):\n",
    "        cur_byte_for_outputs.append(binary_string_to_int((block_to_binary(each_output))[8*cur_pos+8:8*cur_pos+16]))\n",
    "\n",
    "    # print(cur_byte_for_inputs)\n",
    "    # print(cur_byte_for_outputs)\n",
    "    \n",
    "    for i in range(len(candidate_exp[cur_pos])):\n",
    "        # print(i)\n",
    "        expc = candidate_exp[cur_pos][i]\n",
    "        acc = candidate_A[cur_pos][cur_pos][i]\n",
    "        # print(expc)\n",
    "        # print(acc)\n",
    "        # print(\"curposss: \", cur_pos)\n",
    "        # print(candidate_exp[cur_pos])\n",
    "        # print(\"lengthh: \",len(candidate_exp[cur_pos+1]))\n",
    "        for j in range(len(candidate_exp[cur_pos+1])):\n",
    "            expc1 = candidate_exp[cur_pos+1][j]\n",
    "            ac1c1 = candidate_A[cur_pos+1][cur_pos+1][j]\n",
    "            # print(\"ttff\")\n",
    "            # print(j)\n",
    "            # print(expc1)\n",
    "            # print(ac1c1)\n",
    "            for k in range(128):\n",
    "                flag=True\n",
    "                for l in range(len(cur_byte_for_inputs)):\n",
    "                    inp_val = cur_byte_for_inputs[l]\n",
    "                    out_val = cur_byte_for_outputs[l]\n",
    "                    calc_output_byte=Exp(Add(Multiply(Exp(Multiply(Exp(inp_val,expc),acc),expc),k), Multiply(Exp(Multiply(Exp(inp_val,expc),k),expc1),ac1c1)),expc1)\n",
    "                    if(calc_output_byte!=out_val):\n",
    "                        flag=False\n",
    "                        break\n",
    "                if(flag==True): #we saw that there was only 1 possible value for the diagonal and off-diagonal values of A. Hence, we create a final matrix for A and keep updating it since there is no ambiguity now\n",
    "                    # candidate_A[cur_pos][cur_pos].append(acc)\n",
    "                    # candidate_A[cur_pos+1][cur_pos+1].append(ac1c1)\n",
    "                    # candidate_A[cur_pos+1][cur_pos].append(k)\n",
    "                    # candidate_exp[cur_pos].append(expc)\n",
    "                    # candidate_exp[cur_pos+1].append(expc1)\n",
    "                    FINAL_A[cur_pos][cur_pos]=acc\n",
    "                    FINAL_A[cur_pos+1][cur_pos+1]=ac1c1\n",
    "                    FINAL_A[cur_pos][cur_pos+1]=k\n",
    "                    FINAL_EXP[cur_pos]=expc\n",
    "                    FINAL_EXP[cur_pos+1]=expc1\n",
    "                    continue\n",
    "    cur_pos+=1\n",
    "\n",
    "print(FINAL_A)\n",
    "print(\"\\nObtained EXP: \", FINAL_EXP)"
   ]
  },
  {
   "cell_type": "code",
   "execution_count": 634,
   "metadata": {},
   "outputs": [],
   "source": [
    "def EAEAE(plain_text, A, E): #We define a functino to simulate the encryption on a plaintext block\n",
    "    pt = [0 for i in range(8)]\n",
    "    for ind in range(8):\n",
    "        pt[ind]=binary_string_to_int(plain_text[8*ind:8*ind+8])\n",
    "    # print(pt)\n",
    "    M1 = [0 for i in range(8)]\n",
    "    M3 = [0 for i in range(8)]\n",
    "    M5 = [0 for i in range(8)]\n",
    "    \n",
    "    for i in range(len(pt)):\n",
    "        M1[i] = Exp(pt[i], E[i])\n",
    "    # print(M1)\n",
    "    # print(A)\n",
    "    M2 = Mul_matrix_vector(A, M1)\n",
    "    # print(M2)\n",
    "\n",
    "    for i in range(len(pt)):\n",
    "        M3[i] = Exp(M2[i], E[i])\n",
    "\n",
    "    M4 = Mul_matrix_vector(A, M3)\n",
    "\n",
    "    for i in range(len(pt)):\n",
    "        M5[i] = Exp(M4[i], E[i])\n",
    "\n",
    "    return M5"
   ]
  },
  {
   "cell_type": "code",
   "execution_count": 635,
   "metadata": {},
   "outputs": [
    {
     "name": "stdout",
     "output_type": "stream",
     "text": [
      "[[84, 115, 0, 0, 0, 0, 0, 0], [0, 70, 17, 0, 0, 0, 0, 0], [0, 0, 43, 25, 0, 0, 0, 0], [0, 0, 0, 12, 111, 0, 0, 0], [0, 0, 0, 0, 112, 101, 0, 0], [0, 0, 0, 0, 0, 11, 82, 0], [0, 0, 0, 0, 0, 0, 27, 10], [0, 0, 0, 0, 0, 0, 0, 38]]\n",
      "[67, 78, 101, 0, 0, 0, 0, 0]\n"
     ]
    }
   ],
   "source": [
    "print(FINAL_A)\n",
    "\n",
    "print(EAEAE(\"0000000100000000000000000000000000000000000000000000000000000000\", FINAL_A, FINAL_EXP))"
   ]
  },
  {
   "cell_type": "code",
   "execution_count": 636,
   "metadata": {},
   "outputs": [
    {
     "name": "stdout",
     "output_type": "stream",
     "text": [
      "[[84, 115, 26, 97, 98, 31, 15, 89], [0, 70, 17, 26, 33, 38, 120, 14], [0, 0, 43, 25, 12, 28, 0, 85], [0, 0, 0, 12, 111, 43, 104, 22], [0, 0, 0, 0, 112, 101, 30, 13], [0, 0, 0, 0, 0, 11, 82, 68], [0, 0, 0, 0, 0, 0, 27, 10], [0, 0, 0, 0, 0, 0, 0, 38]]\n",
      "[19, 106, 37, 76, 86, 53, 23, 21]\n"
     ]
    }
   ],
   "source": [
    "\n",
    "for start in range(6):\n",
    "    temp_A = FINAL_A\n",
    "\n",
    "    for i in range(len(inputs)): #try to determine A[start+det][start] for all start, A[start][start] and A[start+1][start] are full\n",
    "        if(i+start+2>7):\n",
    "            continue\n",
    "\n",
    "        input_set = inputs[i]\n",
    "        output_set = outputs[i]\n",
    "\n",
    "        # print(input_set)\n",
    "        # print(output_set)\n",
    "\n",
    "        all_inputs = []\n",
    "        all_outputs = []\n",
    "        \n",
    "        for each_input in input_set.strip().split(\" \"):\n",
    "            all_inputs.append((block_to_binary(each_input)))\n",
    "\n",
    "        for each_output in output_set.strip().split(\" \"):\n",
    "            all_outputs.append((block_to_binary(each_output)))\n",
    "        \n",
    "        # print(all_inputs) #binary strings of blocks\n",
    "        # print(all_outputs)\n",
    "\n",
    "        c=0\n",
    "        for k in range(1, 128):\n",
    "            temp_A[i][i+start+2]=k\n",
    "            \n",
    "            # print(len(all_inputs))\n",
    "            flag=True\n",
    "            for ll in range(len(all_inputs)):\n",
    "                inp_val = all_inputs[ll]\n",
    "                out_val = all_outputs[ll]\n",
    "\n",
    "                # print(\"start, i, k, ll:\", start, i, k, ll)\n",
    "\n",
    "                # print(all_inputs[ll])\n",
    "                # print(all_outputs[ll])\n",
    "                # print(\"value at FINAL[i+start+2][i]:\", k)\n",
    "                # print(\"     output ki ye value: \",(all_outputs[ll][8*(i+start+2):8*(i+start+2)+8]))\n",
    "                # print(\"input going into EAEAE:  \", all_inputs[ll])\n",
    "                # print(\"calcualted output value: \",EAEAE(all_inputs[ll], FINAL_A, FINAL_EXP))\n",
    "                if(binary_string_to_int(out_val[8*(i+start+2):8*(i+start+2)+8]) != EAEAE(inp_val, temp_A, FINAL_EXP)[i+start+2]):\n",
    "                    flag = False\n",
    "                    # print(\"above combo didnt match\")\n",
    "                    break\n",
    "            if(flag==True):\n",
    "                if(c):\n",
    "                    print(\"Ambiguity still exists\")\n",
    "                c+=1\n",
    "                FINAL_A[i][i+start+2]=k\n",
    "                \n",
    "                break \n",
    "                    \n",
    "        if(FINAL_A[i][i+start+2]==127):\n",
    "            FINAL_A[i][i+start+2]=0\n",
    "                 \n",
    "\n",
    "print(FINAL_A)\n",
    "print(FINAL_EXP)"
   ]
  },
  {
   "cell_type": "code",
   "execution_count": 637,
   "metadata": {},
   "outputs": [
    {
     "name": "stdout",
     "output_type": "stream",
     "text": [
      "milqltmhmnmpmfmh\n",
      "lglrifififififif\n"
     ]
    }
   ],
   "source": [
    "#no ambiguity exists. Hence we have determined A\n",
    "#Two halves the given password gsmgfnjqlgihkoluifkmgoftjfiijgfn\n",
    "password_half_1 = \"gsmgfnjqlgihkolu\"\n",
    "password_half_2 = \"ifkmgoftjfiijgfn\"\n",
    "\n",
    "#Go over all byte values(0 to 127) and see if output byte matches calculated byte\n",
    "def Decrypt(password):\n",
    "    passw = block_to_binary(password)\n",
    "    ret = \"\"\n",
    "    for ind in range(8):\n",
    "        for ans in range(128):\n",
    "            inp = ret + int_to_pair(ans)+'f'*(16-len(ret)-2) #bytes after ans dont effect (ind)th index of output due to lower traingular matrix A\n",
    "            if binary_string_to_int(passw[8*ind:8*ind+8]) == EAEAE(block_to_binary(inp), FINAL_A, FINAL_EXP)[ind]:\n",
    "                ret += int_to_pair(ans)\n",
    "                break\n",
    "    return ret\n",
    "\n",
    "fst = Decrypt(password_half_1)\n",
    "scd = Decrypt(password_half_2)\n",
    "\n",
    "print(fst)\n",
    "print(scd)"
   ]
  },
  {
   "cell_type": "code",
   "execution_count": 638,
   "metadata": {},
   "outputs": [],
   "source": [
    "def get_ascii_value(a):\n",
    "    return (chr)((ord(a[0])-ord('f'))*16 + ord(a[1])-ord('f'))"
   ]
  },
  {
   "cell_type": "code",
   "execution_count": 639,
   "metadata": {},
   "outputs": [
    {
     "name": "stdout",
     "output_type": "stream",
     "text": [
      "sknrxzpral000000"
     ]
    }
   ],
   "source": [
    "for i in range(0, len(fst), 2):\n",
    "    print(get_ascii_value(fst[i]+fst[i+1]), end=\"\")\n",
    "\n",
    "for i in range(0, len(scd), 2):\n",
    "    print(get_ascii_value(scd[i]+scd[i+1]), end=\"\")"
   ]
  },
  {
   "cell_type": "code",
   "execution_count": null,
   "metadata": {},
   "outputs": [],
   "source": []
  }
 ],
 "metadata": {
  "kernelspec": {
   "display_name": "Python 3",
   "language": "python",
   "name": "python3"
  },
  "language_info": {
   "codemirror_mode": {
    "name": "ipython",
    "version": 3
   },
   "file_extension": ".py",
   "mimetype": "text/x-python",
   "name": "python",
   "nbconvert_exporter": "python",
   "pygments_lexer": "ipython3",
   "version": "3.9.1"
  }
 },
 "nbformat": 4,
 "nbformat_minor": 2
}
